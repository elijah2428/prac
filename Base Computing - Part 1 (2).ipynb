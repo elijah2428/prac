{
 "cells": [
  {
   "cell_type": "markdown",
   "id": "31f0cec7",
   "metadata": {},
   "source": [
    "# This is my notebook in ECE 2112!"
   ]
  },
  {
   "cell_type": "markdown",
   "id": "b7e35e78",
   "metadata": {},
   "source": [
    "#### Python Base Types - these are the data types in Python"
   ]
  },
  {
   "cell_type": "code",
   "execution_count": 15,
   "id": "fa1cf68e",
   "metadata": {},
   "outputs": [
    {
     "data": {
      "text/plain": [
       "int"
      ]
     },
     "execution_count": 15,
     "metadata": {},
     "output_type": "execute_result"
    }
   ],
   "source": [
    "type(346)"
   ]
  },
  {
   "cell_type": "code",
   "execution_count": 17,
   "id": "6558b02c",
   "metadata": {},
   "outputs": [
    {
     "data": {
      "text/plain": [
       "float"
      ]
     },
     "execution_count": 17,
     "metadata": {},
     "output_type": "execute_result"
    }
   ],
   "source": [
    "type(45.3)"
   ]
  },
  {
   "cell_type": "code",
   "execution_count": 19,
   "id": "a6895b4b",
   "metadata": {},
   "outputs": [
    {
     "data": {
      "text/plain": [
       "str"
      ]
     },
     "execution_count": 19,
     "metadata": {},
     "output_type": "execute_result"
    }
   ],
   "source": [
    "type('c')"
   ]
  },
  {
   "cell_type": "code",
   "execution_count": 21,
   "id": "9ebbddce",
   "metadata": {},
   "outputs": [
    {
     "data": {
      "text/plain": [
       "bool"
      ]
     },
     "execution_count": 21,
     "metadata": {},
     "output_type": "execute_result"
    }
   ],
   "source": [
    "type(True)"
   ]
  },
  {
   "cell_type": "markdown",
   "id": "309ab2c1",
   "metadata": {},
   "source": [
    "#### Python Type Conversion"
   ]
  },
  {
   "cell_type": "markdown",
   "id": "07cd70f3",
   "metadata": {},
   "source": [
    "How will I convert 34.5 to integer?"
   ]
  },
  {
   "cell_type": "code",
   "execution_count": 23,
   "id": "67167b97",
   "metadata": {},
   "outputs": [
    {
     "data": {
      "text/plain": [
       "34"
      ]
     },
     "execution_count": 23,
     "metadata": {},
     "output_type": "execute_result"
    }
   ],
   "source": [
    "int(34.5)"
   ]
  },
  {
   "cell_type": "markdown",
   "id": "cc7fc369",
   "metadata": {},
   "source": [
    "How will I convert 45 to float?"
   ]
  },
  {
   "cell_type": "code",
   "execution_count": 25,
   "id": "1ea44f5f",
   "metadata": {},
   "outputs": [
    {
     "data": {
      "text/plain": [
       "45.0"
      ]
     },
     "execution_count": 25,
     "metadata": {},
     "output_type": "execute_result"
    }
   ],
   "source": [
    "float(45)"
   ]
  },
  {
   "cell_type": "markdown",
   "id": "921ac322",
   "metadata": {},
   "source": [
    "#### Operations on INTs and FLOATs"
   ]
  },
  {
   "cell_type": "code",
   "execution_count": 27,
   "id": "350554e8",
   "metadata": {},
   "outputs": [
    {
     "data": {
      "text/plain": [
       "163"
      ]
     },
     "execution_count": 27,
     "metadata": {},
     "output_type": "execute_result"
    }
   ],
   "source": [
    "#Addition\n",
    "78+85"
   ]
  },
  {
   "cell_type": "code",
   "execution_count": 29,
   "id": "9d7b7680",
   "metadata": {},
   "outputs": [
    {
     "data": {
      "text/plain": [
       "-7"
      ]
     },
     "execution_count": 29,
     "metadata": {},
     "output_type": "execute_result"
    }
   ],
   "source": [
    "#Subtraction\n",
    "78-85"
   ]
  },
  {
   "cell_type": "code",
   "execution_count": 31,
   "id": "2f3f77f0",
   "metadata": {},
   "outputs": [
    {
     "data": {
      "text/plain": [
       "6630"
      ]
     },
     "execution_count": 31,
     "metadata": {},
     "output_type": "execute_result"
    }
   ],
   "source": [
    "#Multiplication\n",
    "78*85"
   ]
  },
  {
   "cell_type": "code",
   "execution_count": 33,
   "id": "2d7fe5d4",
   "metadata": {},
   "outputs": [
    {
     "data": {
      "text/plain": [
       "67304054671971450739989420306807619836799377985470716666894760506378032361691314076427140597397010589541943423481240405499752742660038542135357687606606894727168"
      ]
     },
     "execution_count": 33,
     "metadata": {},
     "output_type": "execute_result"
    }
   ],
   "source": [
    "#Exponentiation\n",
    "78**85"
   ]
  },
  {
   "cell_type": "code",
   "execution_count": 35,
   "id": "bc5304e2",
   "metadata": {},
   "outputs": [
    {
     "data": {
      "text/plain": [
       "3.3333333333333335"
      ]
     },
     "execution_count": 35,
     "metadata": {},
     "output_type": "execute_result"
    }
   ],
   "source": [
    "#Division (Float) - isang dash lang\n",
    "20/6"
   ]
  },
  {
   "cell_type": "code",
   "execution_count": 37,
   "id": "0f2195a6",
   "metadata": {},
   "outputs": [
    {
     "data": {
      "text/plain": [
       "3"
      ]
     },
     "execution_count": 37,
     "metadata": {},
     "output_type": "execute_result"
    }
   ],
   "source": [
    "#Division (Int) - dalawang slash\n",
    "20//6"
   ]
  },
  {
   "cell_type": "code",
   "execution_count": 39,
   "id": "4689e543",
   "metadata": {},
   "outputs": [
    {
     "data": {
      "text/plain": [
       "2"
      ]
     },
     "execution_count": 39,
     "metadata": {},
     "output_type": "execute_result"
    }
   ],
   "source": [
    "#Modulo - remainder\n",
    "20%6"
   ]
  },
  {
   "cell_type": "markdown",
   "id": "93fce01a",
   "metadata": {},
   "source": [
    "#### Operations on Strings"
   ]
  },
  {
   "cell_type": "markdown",
   "id": "e8607805",
   "metadata": {},
   "source": [
    "Strings - letters, special characters, spaces, digits that are enclosed in a pair of either single or double quotation marks."
   ]
  },
  {
   "cell_type": "code",
   "execution_count": 41,
   "id": "00cd1967",
   "metadata": {},
   "outputs": [],
   "source": [
    "s = \"Advanced Programming\""
   ]
  },
  {
   "cell_type": "code",
   "execution_count": 43,
   "id": "24f15c53",
   "metadata": {},
   "outputs": [
    {
     "data": {
      "text/plain": [
       "'aDVANCED pROGRAMMING'"
      ]
     },
     "execution_count": 43,
     "metadata": {},
     "output_type": "execute_result"
    }
   ],
   "source": [
    "s.swapcase()"
   ]
  },
  {
   "cell_type": "code",
   "execution_count": 45,
   "id": "ab2b543b",
   "metadata": {},
   "outputs": [
    {
     "data": {
      "text/plain": [
       "'v'"
      ]
     },
     "execution_count": 45,
     "metadata": {},
     "output_type": "execute_result"
    }
   ],
   "source": [
    "#Dependent on ASCII codes\n",
    "max(s)"
   ]
  },
  {
   "cell_type": "code",
   "execution_count": 47,
   "id": "6c3f4e88",
   "metadata": {},
   "outputs": [
    {
     "data": {
      "text/plain": [
       "False"
      ]
     },
     "execution_count": 47,
     "metadata": {},
     "output_type": "execute_result"
    }
   ],
   "source": [
    "s.isupper()"
   ]
  },
  {
   "cell_type": "code",
   "execution_count": 49,
   "id": "91e2a933",
   "metadata": {},
   "outputs": [
    {
     "data": {
      "text/plain": [
       "'Advanced Progra**ing'"
      ]
     },
     "execution_count": 49,
     "metadata": {},
     "output_type": "execute_result"
    }
   ],
   "source": [
    "s.replace(\"m\", \"*\")"
   ]
  },
  {
   "cell_type": "code",
   "execution_count": 51,
   "id": "d1cadb40",
   "metadata": {},
   "outputs": [
    {
     "data": {
      "text/plain": [
       "True"
      ]
     },
     "execution_count": 51,
     "metadata": {},
     "output_type": "execute_result"
    }
   ],
   "source": [
    "x = \"gram\" in s\n",
    "x"
   ]
  },
  {
   "cell_type": "code",
   "execution_count": 53,
   "id": "79bc9ec3",
   "metadata": {},
   "outputs": [
    {
     "data": {
      "text/plain": [
       "'An gm'"
      ]
     },
     "execution_count": 53,
     "metadata": {},
     "output_type": "execute_result"
    }
   ],
   "source": [
    "#Slicing - string_name[index ng first element: number of characters: increment]\n",
    "s[0:20:4]"
   ]
  },
  {
   "cell_type": "code",
   "execution_count": 55,
   "id": "2f124945",
   "metadata": {},
   "outputs": [
    {
     "data": {
      "text/plain": [
       "'I love Advanced Programming'"
      ]
     },
     "execution_count": 55,
     "metadata": {},
     "output_type": "execute_result"
    }
   ],
   "source": [
    "txt = \"I love {}\"\n",
    "txt.format(s)"
   ]
  },
  {
   "cell_type": "markdown",
   "id": "02cbf234",
   "metadata": {},
   "source": [
    "### Python Data Structures"
   ]
  },
  {
   "cell_type": "markdown",
   "id": "a8e786c1",
   "metadata": {},
   "source": [
    "Python Data Structures - any objects that holds arbitrary number of objects."
   ]
  },
  {
   "cell_type": "markdown",
   "id": "be8d0e28",
   "metadata": {},
   "source": [
    "##### List - is a collection of data which uses straight brackets [  ] and commas to separate the object."
   ]
  },
  {
   "cell_type": "code",
   "execution_count": 14,
   "id": "55dc5da0",
   "metadata": {},
   "outputs": [
    {
     "data": {
      "text/plain": [
       "['banana', 'banana', 'apply', 'cherry']"
      ]
     },
     "execution_count": 14,
     "metadata": {},
     "output_type": "execute_result"
    }
   ],
   "source": [
    "m = [\"banana\", \"banana\", \"apply\", \"cherry\"]\n",
    "m"
   ]
  },
  {
   "cell_type": "code",
   "execution_count": null,
   "id": "f4a9458c",
   "metadata": {},
   "outputs": [],
   "source": [
    "print(m[1])"
   ]
  },
  {
   "cell_type": "code",
   "execution_count": null,
   "id": "9da0b2fd",
   "metadata": {},
   "outputs": [],
   "source": [
    "print(m[-1])"
   ]
  },
  {
   "cell_type": "code",
   "execution_count": null,
   "id": "7bb5e5f1",
   "metadata": {},
   "outputs": [],
   "source": [
    "m.append(\"mango\")\n",
    "m"
   ]
  },
  {
   "cell_type": "code",
   "execution_count": null,
   "id": "07eee3e2",
   "metadata": {},
   "outputs": [],
   "source": [
    "m.insert(2,\"orange\")\n",
    "m"
   ]
  },
  {
   "cell_type": "code",
   "execution_count": null,
   "id": "5108b7ca",
   "metadata": {},
   "outputs": [],
   "source": [
    "m.remove(\"banana\")\n",
    "m"
   ]
  },
  {
   "cell_type": "code",
   "execution_count": null,
   "id": "c06077cd",
   "metadata": {},
   "outputs": [],
   "source": [
    "m.sort()\n",
    "m"
   ]
  },
  {
   "cell_type": "code",
   "execution_count": null,
   "id": "8073922e",
   "metadata": {},
   "outputs": [],
   "source": [
    "del m[1]\n",
    "m"
   ]
  },
  {
   "cell_type": "markdown",
   "id": "52758636",
   "metadata": {},
   "source": [
    "##### Dictionary - uses curly braces and colons to signify the keys to their associated values"
   ]
  },
  {
   "cell_type": "code",
   "execution_count": 16,
   "id": "8d73882a",
   "metadata": {},
   "outputs": [
    {
     "data": {
      "text/plain": [
       "{'brand': 'Mitsubishi', 'model': 'Mirage', 'year': 2018}"
      ]
     },
     "execution_count": 16,
     "metadata": {},
     "output_type": "execute_result"
    }
   ],
   "source": [
    "d = {\"brand\":\"Mitsubishi\", \"model\":\"Mirage\", \"year\": 2018}\n",
    "d"
   ]
  },
  {
   "cell_type": "code",
   "execution_count": null,
   "id": "539039d0",
   "metadata": {},
   "outputs": [],
   "source": [
    "d.get(\"model\")"
   ]
  },
  {
   "cell_type": "code",
   "execution_count": null,
   "id": "d14a1876",
   "metadata": {},
   "outputs": [],
   "source": [
    "d[\"color\"] = \"pink\"\n",
    "d"
   ]
  },
  {
   "cell_type": "code",
   "execution_count": null,
   "id": "f269f6c1",
   "metadata": {},
   "outputs": [],
   "source": [
    "d.keys()"
   ]
  },
  {
   "cell_type": "code",
   "execution_count": null,
   "id": "f5f18513",
   "metadata": {},
   "outputs": [],
   "source": [
    "d.pop(\"model\")\n",
    "d"
   ]
  },
  {
   "cell_type": "code",
   "execution_count": null,
   "id": "f1b79e8b",
   "metadata": {},
   "outputs": [],
   "source": [
    "d.popitem()\n",
    "d"
   ]
  },
  {
   "cell_type": "markdown",
   "id": "c5b0aeef",
   "metadata": {},
   "source": [
    "##### Tuple - collection of data which is immutable"
   ]
  },
  {
   "cell_type": "code",
   "execution_count": 18,
   "id": "0d89710b",
   "metadata": {},
   "outputs": [
    {
     "data": {
      "text/plain": [
       "('apple', 'banana', 'cherry', 'mango', 'orange', 'apple')"
      ]
     },
     "execution_count": 18,
     "metadata": {},
     "output_type": "execute_result"
    }
   ],
   "source": [
    "t = \"apple\", \"banana\", \"cherry\", \"mango\", \"orange\", \"apple\"\n",
    "t"
   ]
  },
  {
   "cell_type": "code",
   "execution_count": null,
   "id": "c0794f53",
   "metadata": {},
   "outputs": [],
   "source": [
    "print(t[1])"
   ]
  },
  {
   "cell_type": "code",
   "execution_count": null,
   "id": "497c3238",
   "metadata": {},
   "outputs": [],
   "source": [
    "print(t[-2])"
   ]
  },
  {
   "cell_type": "code",
   "execution_count": 3,
   "id": "bfc954c6",
   "metadata": {},
   "outputs": [
    {
     "name": "stdout",
     "output_type": "stream",
     "text": [
      "('cherry',)\n"
     ]
    }
   ],
   "source": [
    "print(t[2:3])"
   ]
  },
  {
   "cell_type": "code",
   "execution_count": null,
   "id": "befac93a",
   "metadata": {},
   "outputs": [],
   "source": [
    "t[2] = \"orange\""
   ]
  },
  {
   "cell_type": "code",
   "execution_count": null,
   "id": "f22e5fb9",
   "metadata": {},
   "outputs": [],
   "source": [
    "len(t)"
   ]
  },
  {
   "cell_type": "code",
   "execution_count": null,
   "id": "1c9136bd",
   "metadata": {},
   "outputs": [],
   "source": [
    "del t\n",
    "t"
   ]
  },
  {
   "cell_type": "markdown",
   "id": "50584ad4",
   "metadata": {},
   "source": [
    "##### Set - collection of unique data elements which is unordered"
   ]
  },
  {
   "cell_type": "code",
   "execution_count": 4,
   "id": "046e7c18",
   "metadata": {},
   "outputs": [
    {
     "data": {
      "text/plain": [
       "{'apple', 'banana', 'cherry '}"
      ]
     },
     "execution_count": 4,
     "metadata": {},
     "output_type": "execute_result"
    }
   ],
   "source": [
    "s = {\"banana\", \"cherry \", \"banana\", \"apple\"}\n",
    "s"
   ]
  },
  {
   "cell_type": "code",
   "execution_count": null,
   "id": "28bf5c1c",
   "metadata": {},
   "outputs": [],
   "source": [
    "s.add(\"orange\")\n",
    "s"
   ]
  },
  {
   "cell_type": "code",
   "execution_count": null,
   "id": "9808ad01",
   "metadata": {},
   "outputs": [],
   "source": [
    "s.update([\"mango\", \"grapes\"])\n",
    "s"
   ]
  },
  {
   "cell_type": "code",
   "execution_count": null,
   "id": "8bb918e8",
   "metadata": {},
   "outputs": [],
   "source": [
    "s.remove(\"banana\")\n",
    "s"
   ]
  },
  {
   "cell_type": "code",
   "execution_count": null,
   "id": "d22cf89f",
   "metadata": {},
   "outputs": [],
   "source": [
    "s.pop()\n",
    "s"
   ]
  },
  {
   "cell_type": "markdown",
   "id": "ad947bbc",
   "metadata": {},
   "source": [
    "### Input and Output in Python"
   ]
  },
  {
   "cell_type": "markdown",
   "id": "5c36f76d",
   "metadata": {},
   "source": [
    "#### Input (Strings)\n",
    "\n",
    "Syntax: text = input(\"\")"
   ]
  },
  {
   "cell_type": "code",
   "execution_count": 3,
   "id": "3883624c",
   "metadata": {},
   "outputs": [
    {
     "name": "stdin",
     "output_type": "stream",
     "text": [
      "Enter your name:  elijah\n"
     ]
    }
   ],
   "source": [
    "p = input(\"Enter your name: \")"
   ]
  },
  {
   "cell_type": "markdown",
   "id": "dbab0cf2",
   "metadata": {},
   "source": [
    "#### Input (Int or Float)\n",
    "\n",
    "Syntax: \n",
    "n = int(input(\"\"))\n",
    "n = float(input(\"\"))"
   ]
  },
  {
   "cell_type": "code",
   "execution_count": 1,
   "id": "cdb7a43b",
   "metadata": {},
   "outputs": [
    {
     "name": "stdin",
     "output_type": "stream",
     "text": [
      "Enter a number:  32\n"
     ]
    }
   ],
   "source": [
    "n = int(input(\"Enter a number: \"))"
   ]
  },
  {
   "cell_type": "code",
   "execution_count": 5,
   "id": "9646451a",
   "metadata": {},
   "outputs": [
    {
     "name": "stdin",
     "output_type": "stream",
     "text": [
      "Enter a number:  32.543\n"
     ]
    }
   ],
   "source": [
    "n = float(input(\"Enter a number: \"))"
   ]
  },
  {
   "cell_type": "markdown",
   "id": "08e8fd79",
   "metadata": {},
   "source": [
    "#### Output\n",
    "\n",
    "Syntax: print()"
   ]
  },
  {
   "cell_type": "code",
   "execution_count": 9,
   "id": "8bee98c0",
   "metadata": {},
   "outputs": [
    {
     "name": "stdout",
     "output_type": "stream",
     "text": [
      "Hello World\n"
     ]
    }
   ],
   "source": [
    "print(\"Hello World\")"
   ]
  },
  {
   "cell_type": "code",
   "execution_count": 7,
   "id": "aa1d61db",
   "metadata": {},
   "outputs": [
    {
     "name": "stdout",
     "output_type": "stream",
     "text": [
      "32.543\n"
     ]
    }
   ],
   "source": [
    "print(n)"
   ]
  },
  {
   "cell_type": "code",
   "execution_count": 11,
   "id": "8bf70b2a",
   "metadata": {},
   "outputs": [
    {
     "name": "stdout",
     "output_type": "stream",
     "text": [
      "My favorite number is 32.543 and I used it earlier\n"
     ]
    }
   ],
   "source": [
    "print(\"My favorite number is\", n, \"and I used it earlier\")"
   ]
  },
  {
   "cell_type": "code",
   "execution_count": 5,
   "id": "cb33c822-86a1-4988-b502-c421ce2a6f51",
   "metadata": {},
   "outputs": [
    {
     "data": {
      "text/plain": [
       "array([[[1, 2, 3],\n",
       "        [4, 5, 6]]])"
      ]
     },
     "execution_count": 5,
     "metadata": {},
     "output_type": "execute_result"
    }
   ],
   "source": [
    "import numpy as np\n",
    "\n",
    "a = np.array([[[1,2,3],[4,5,6]]])\n",
    "a\n"
   ]
  },
  {
   "cell_type": "markdown",
   "id": "c3641869-9ccc-40ac-b0e5-ac08c81f4b7b",
   "metadata": {},
   "source": [
    "#### Conditional Statement - simple IF statement"
   ]
  },
  {
   "cell_type": "code",
   "execution_count": 4,
   "id": "88dbc5b1-ef9e-47ba-ba94-ae69d3079d73",
   "metadata": {},
   "outputs": [],
   "source": [
    "#Syntax:\n",
    "\n",
    "#if <expr>:\n",
    "    #<statement>"
   ]
  },
  {
   "cell_type": "code",
   "execution_count": 6,
   "id": "8a629636-7ad2-4a46-9e6a-283a04622e0a",
   "metadata": {},
   "outputs": [
    {
     "name": "stdout",
     "output_type": "stream",
     "text": [
      "b is greater than a\n"
     ]
    }
   ],
   "source": [
    "#Example:\n",
    "a = 33; b = 200\n",
    "if b > a:\n",
    "    print(\"b is greater than a\")"
   ]
  },
  {
   "cell_type": "code",
   "execution_count": 8,
   "id": "540a1873-98c3-4b92-970b-653c4ece8a8c",
   "metadata": {},
   "outputs": [],
   "source": [
    "#Another Syntax:\n",
    "\n",
    "#if <expr>: <statement>"
   ]
  },
  {
   "cell_type": "code",
   "execution_count": 10,
   "id": "39eb9ca0-feb6-4b94-94de-dc00b5fa4235",
   "metadata": {},
   "outputs": [
    {
     "name": "stdout",
     "output_type": "stream",
     "text": [
      "b is greater than a\n"
     ]
    }
   ],
   "source": [
    "#Example:\n",
    "a = 33; b = 200\n",
    "if b > a: print(\"b is greater than a\")"
   ]
  },
  {
   "cell_type": "markdown",
   "id": "0a8316f4-ccb8-4d86-ac74-b277a7ae9dd0",
   "metadata": {},
   "source": [
    "### Conditional Statement - compound IF statement"
   ]
  },
  {
   "cell_type": "code",
   "execution_count": 13,
   "id": "6c994716-b00c-4035-b0e6-d418f3f0dab3",
   "metadata": {},
   "outputs": [],
   "source": [
    "#Syntax:\n",
    "\n",
    "#if <expr>:\n",
    "    #<statement1>\n",
    "    #<statement2>\n",
    "    #<statementn>"
   ]
  },
  {
   "cell_type": "markdown",
   "id": "91a11bf0-9a56-4d4c-ac3b-7cf8930f0560",
   "metadata": {},
   "source": [
    "#Example:\n",
    "grade = 58\n",
    "if grade < 60:\n",
    "    print(\"I'm sorry\")\n",
    "    print(\"You failed\")"
   ]
  },
  {
   "cell_type": "code",
   "execution_count": 17,
   "id": "3ccf4357-e877-41a0-9623-43bf841c2289",
   "metadata": {},
   "outputs": [],
   "source": [
    "#Another Syntax:\n",
    "\n",
    "#if <expr>: <statement1>; <statement2> ... <statement1n> "
   ]
  },
  {
   "cell_type": "code",
   "execution_count": 19,
   "id": "22321f7d-c79e-45ac-8cde-80040940d363",
   "metadata": {},
   "outputs": [
    {
     "name": "stdout",
     "output_type": "stream",
     "text": [
      "I'm sorry\n",
      "You failed\n"
     ]
    }
   ],
   "source": [
    "#Example:\n",
    "grade = 58\n",
    "if grade < 60: print(\"I'm sorry\"); print(\"You failed\")"
   ]
  },
  {
   "cell_type": "markdown",
   "id": "7fdbb888-585a-455f-83c3-719cbc80c2b4",
   "metadata": {},
   "source": [
    "### Conditional Statement - ELSE and ELIF statement"
   ]
  },
  {
   "cell_type": "markdown",
   "id": "d5a453d6-8844-43a3-8fea-49bb8a23fb95",
   "metadata": {},
   "source": [
    "#### Using ELIF and ELSE in an IF statement"
   ]
  },
  {
   "cell_type": "code",
   "execution_count": 25,
   "id": "1feb4f48-da08-494a-8282-8ef652a09c6a",
   "metadata": {},
   "outputs": [],
   "source": [
    "#Syntax:\n",
    "\n",
    "#if <expr>:\n",
    "    #<statement1>\n",
    "#elif <expr>:    \n",
    "    #<statement2>\n",
    "#elif <expr>:    \n",
    "    #<statement3>\n",
    "#else:\n",
    "    #<statement4>"
   ]
  },
  {
   "cell_type": "code",
   "execution_count": 27,
   "id": "b49f47b8-829a-432e-a715-483368dcd62a",
   "metadata": {},
   "outputs": [
    {
     "name": "stdout",
     "output_type": "stream",
     "text": [
      "b is equal to a\n"
     ]
    }
   ],
   "source": [
    "#Example:\n",
    "a = 33; b = 33\n",
    "if b > a:\n",
    "    print(\"b is greater than a\")\n",
    "elif b == a:\n",
    "    print(\"b is equal to a\")\n",
    "else:\n",
    "    print(\"b is less than a\")"
   ]
  },
  {
   "cell_type": "markdown",
   "id": "bda39c60-7ac6-40ba-9761-38d6eca2ee33",
   "metadata": {},
   "source": [
    "#### Using ELSE in an IF statement (1 liner)"
   ]
  },
  {
   "cell_type": "code",
   "execution_count": 30,
   "id": "87311812-1ab3-4ef9-b7a5-badbd038443e",
   "metadata": {},
   "outputs": [],
   "source": [
    "#Syntax:\n",
    "\n",
    "#<statement_True> if <expr> else <statement_False>"
   ]
  },
  {
   "cell_type": "code",
   "execution_count": 32,
   "id": "4f350623-09d8-4394-9508-f3763a29626f",
   "metadata": {},
   "outputs": [
    {
     "name": "stdout",
     "output_type": "stream",
     "text": [
      "B\n"
     ]
    }
   ],
   "source": [
    "a = 20; b = 33\n",
    "print(\"A\") if a > b else print(\"B\")"
   ]
  },
  {
   "cell_type": "markdown",
   "id": "c001e75b-1546-4831-b960-960988b8ae83",
   "metadata": {},
   "source": [
    "### Pass Statement - used when a statement is required syntactically but you do not want any command or code to execute"
   ]
  },
  {
   "cell_type": "code",
   "execution_count": 35,
   "id": "144b1a1b-97b2-4db1-86a4-c60a4927b174",
   "metadata": {},
   "outputs": [],
   "source": [
    "#Syntax:\n",
    "\n",
    "#if <expr>:\n",
    "    #pass\n",
    "    \n",
    "#<statements>"
   ]
  },
  {
   "cell_type": "code",
   "execution_count": 37,
   "id": "4405b191-ec7e-4217-927a-68af7c256822",
   "metadata": {},
   "outputs": [],
   "source": [
    "if a > b:\n",
    "    pass #do nothing"
   ]
  },
  {
   "cell_type": "markdown",
   "id": "d4d9bf57-eab3-404b-9fff-c4bc9014d178",
   "metadata": {},
   "source": [
    "### Looping Statement"
   ]
  },
  {
   "cell_type": "markdown",
   "id": "fa09e21e-834e-4957-84dc-02d8f79baa7a",
   "metadata": {},
   "source": [
    "#### for loop - need of sequence (string, set, list, dictionary, tuple)"
   ]
  },
  {
   "cell_type": "code",
   "execution_count": 45,
   "id": "0a28c3f0-ed30-4027-a75a-f7cebbb4343e",
   "metadata": {},
   "outputs": [],
   "source": [
    "#Syntax:\n",
    "\n",
    "#for iterating_var in sequence:\n",
    "    #statement"
   ]
  },
  {
   "cell_type": "code",
   "execution_count": 47,
   "id": "3cc03e3f-7f30-47eb-b8f8-5bfb7cb3287b",
   "metadata": {},
   "outputs": [
    {
     "name": "stdout",
     "output_type": "stream",
     "text": [
      "b\n",
      "a\n",
      "n\n",
      "a\n",
      "n\n",
      "a\n"
     ]
    }
   ],
   "source": [
    "for x in \"banana\":\n",
    "    print(x)"
   ]
  },
  {
   "cell_type": "markdown",
   "id": "5248f7fa-76bf-4fd1-8b1f-41ed119dc9d3",
   "metadata": {},
   "source": [
    "#### Break Statement - stops the loop before it has looped all through items"
   ]
  },
  {
   "cell_type": "code",
   "execution_count": 20,
   "id": "3342e068-b207-424e-ac74-19194ce03a85",
   "metadata": {},
   "outputs": [
    {
     "name": "stdout",
     "output_type": "stream",
     "text": [
      "apple\n",
      "banana\n",
      "cherry\n"
     ]
    }
   ],
   "source": [
    "fruits = [\"apple\", \"banana\", \"cherry\", \"mango\"]\n",
    "for x in fruits:\n",
    "    print(x)\n",
    "    if x == \"cherry\":\n",
    "        break"
   ]
  },
  {
   "cell_type": "markdown",
   "id": "48d96ec7-f451-4be7-a231-24885d8c40aa",
   "metadata": {},
   "source": [
    "#### Continue Statement - stops at the current iteration then proceeds to the next"
   ]
  },
  {
   "cell_type": "code",
   "execution_count": 55,
   "id": "02d86042-5889-4286-9b99-9b1000826856",
   "metadata": {},
   "outputs": [
    {
     "name": "stdout",
     "output_type": "stream",
     "text": [
      "apple\n",
      "cherry\n",
      "mango\n"
     ]
    }
   ],
   "source": [
    "fruits = [\"apple\", \"banana\", \"cherry\", \"mango\"]\n",
    "for x in fruits:\n",
    "    if x == \"banana\":\n",
    "        continue\n",
    "    print(x)"
   ]
  },
  {
   "cell_type": "markdown",
   "id": "4be52a07-533f-4d0e-a6f2-199f21b2b52a",
   "metadata": {},
   "source": [
    "#### while statement"
   ]
  },
  {
   "cell_type": "code",
   "execution_count": 58,
   "id": "689cd4bf-e7c0-45df-b934-e45d8f486284",
   "metadata": {},
   "outputs": [],
   "source": [
    "#Syntax:\n",
    "\n",
    "#Note: if the expression is TRUE, uulit ako. kapag hindi, eexit na ng loop\n",
    "\n",
    "#while expression: \n",
    "    #statement"
   ]
  },
  {
   "cell_type": "code",
   "execution_count": 60,
   "id": "3d0e3ece-1ebd-4169-89b0-d87a9b0a4f6c",
   "metadata": {},
   "outputs": [
    {
     "name": "stdout",
     "output_type": "stream",
     "text": [
      "1\n",
      "2\n",
      "3\n",
      "4\n",
      "5\n"
     ]
    }
   ],
   "source": [
    "i = 1\n",
    "while i < 6:\n",
    "    print(i)\n",
    "    i += 1 # i = i+1"
   ]
  },
  {
   "cell_type": "markdown",
   "id": "89d7cc1d-9e66-438f-944f-6666b7897533",
   "metadata": {},
   "source": [
    "### Functions (Built-in) - readily available from the library"
   ]
  },
  {
   "cell_type": "code",
   "execution_count": 63,
   "id": "31c7a31b-b183-4ea1-98dc-0ea21294643f",
   "metadata": {},
   "outputs": [],
   "source": [
    "from math import * #* - all\n",
    "\n",
    "x = tan(pi/4)\n",
    "y = round(47.8)"
   ]
  },
  {
   "cell_type": "markdown",
   "id": "2d544c65-d620-45d1-851f-eef5b1e9a54c",
   "metadata": {},
   "source": [
    "#### Functions (Custom) - user-defined"
   ]
  },
  {
   "cell_type": "code",
   "execution_count": 68,
   "id": "0d42d1b6-e0db-48ec-b447-d9dcad134f5c",
   "metadata": {},
   "outputs": [
    {
     "name": "stdout",
     "output_type": "stream",
     "text": [
      "Hello Madee\n"
     ]
    }
   ],
   "source": [
    "#Syntax:\n",
    "#def <name ng function>(arguments/input)\n",
    "#print - strings    \n",
    "\n",
    "def my_function(name):\n",
    "\tprint(\"Hello \" + name)\n",
    "\n",
    "my_function(\"Madee\")"
   ]
  },
  {
   "cell_type": "code",
   "execution_count": 70,
   "id": "1ccc6af3-7380-4e07-b119-af0f4f34ceff",
   "metadata": {},
   "outputs": [
    {
     "data": {
      "text/plain": [
       "15"
      ]
     },
     "execution_count": 70,
     "metadata": {},
     "output_type": "execute_result"
    }
   ],
   "source": [
    "#Syntax:\n",
    "#def <name ng function>(arguments/input)\n",
    "#return - numbers  \n",
    "\n",
    "def my_function(x):\n",
    "    y = 5 * x\n",
    "    return y\n",
    "\n",
    "my_function(3)"
   ]
  },
  {
   "cell_type": "code",
   "execution_count": 72,
   "id": "56a3bc02-c212-451c-8fb8-3c3f28a576be",
   "metadata": {},
   "outputs": [
    {
     "name": "stdout",
     "output_type": "stream",
     "text": [
      "apple\n",
      "banana\n"
     ]
    }
   ],
   "source": [
    "fruits = [\"apple\", \"banana\"]\n",
    "\n",
    "def my_function(food):\n",
    "\tfor x in food:\n",
    "\t\tprint(x)\n",
    "\n",
    "my_function(fruits)\n",
    "\n",
    "#fruits == food"
   ]
  },
  {
   "cell_type": "code",
   "execution_count": 74,
   "id": "1126656c-67c8-46a0-932b-8f8ccf04d0e3",
   "metadata": {},
   "outputs": [
    {
     "data": {
      "text/plain": [
       "55"
      ]
     },
     "execution_count": 74,
     "metadata": {},
     "output_type": "execute_result"
    }
   ],
   "source": [
    "#Python Demo 1\n",
    "\n",
    "def squaresum(n):\n",
    "    sm = 0\n",
    "    for i in range(1, n+1):\n",
    "        sm = sm+(i**2)\n",
    "    return sm\n",
    "\n",
    "squaresum(5)"
   ]
  },
  {
   "cell_type": "code",
   "execution_count": 76,
   "id": "55943183-cbde-4ba4-bdb5-9f83089035d4",
   "metadata": {},
   "outputs": [
    {
     "data": {
      "text/plain": [
       "2470.2769"
      ]
     },
     "execution_count": 76,
     "metadata": {},
     "output_type": "execute_result"
    }
   ],
   "source": [
    "#Python Demo 2\n",
    "\n",
    "from math import *\n",
    "def polysum(n,s):\n",
    "    perimeter = n*s\n",
    "    area = (0.25*n*s**2)/tan(pi/n)\n",
    "    op = area + perimeter**2\n",
    "    return round(op,4)\n",
    "\n",
    "polysum(6,8)"
   ]
  },
  {
   "cell_type": "code",
   "execution_count": 78,
   "id": "5f5385f3-179c-4dc0-8370-7ef635074139",
   "metadata": {},
   "outputs": [
    {
     "name": "stdout",
     "output_type": "stream",
     "text": [
      "{1: 1, 2: 4, 3: 9, 4: 16, 5: 25, 6: 36, 7: 49, 8: 64, 9: 81, 10: 100, 11: 121, 12: 144, 13: 169, 14: 196, 15: 225}\n"
     ]
    }
   ],
   "source": [
    "#Python Demo 3\n",
    "\n",
    "d = {} #container for the dictionary na ipi-print\n",
    "for x in range(1,16):\n",
    "    d[x] = x**2\n",
    "    \n",
    "print(d)"
   ]
  },
  {
   "cell_type": "markdown",
   "id": "42a10729-7a30-454d-986f-ebe07723ff5b",
   "metadata": {},
   "source": [
    "# Numpy"
   ]
  },
  {
   "cell_type": "markdown",
   "id": "4c3307dc-4ded-4fb2-973a-94117c9bc81e",
   "metadata": {},
   "source": [
    "### Numerical Python (Numpy) - core library for scientific computing in Python. It provides a high-performance multidimensional array object and tools for working with arrays. "
   ]
  },
  {
   "cell_type": "markdown",
   "id": "a13f4421-a29f-40c1-b57f-bb944ce32aff",
   "metadata": {},
   "source": [
    "#### To access Numpy library, the import convention must be used: import numpy as np"
   ]
  },
  {
   "cell_type": "code",
   "execution_count": 83,
   "id": "1089c351-af02-4a79-805b-ba3a4e7fea53",
   "metadata": {},
   "outputs": [],
   "source": [
    "import numpy as np"
   ]
  },
  {
   "cell_type": "markdown",
   "id": "d19168c4-fd2b-4c7b-877f-18e8453e8338",
   "metadata": {},
   "source": [
    "##### Python Demo 1: Creating and Inspecting ndrrays"
   ]
  },
  {
   "cell_type": "markdown",
   "id": "d6f9a250-f1db-4448-8af7-dc9a76c0f14c",
   "metadata": {},
   "source": [
    "Create three ndarrays as shown in the screen:"
   ]
  },
  {
   "cell_type": "code",
   "execution_count": 87,
   "id": "1f327c44-56fe-4c95-b358-bb9bc9cee398",
   "metadata": {},
   "outputs": [
    {
     "data": {
      "text/plain": [
       "array([1, 2, 3])"
      ]
     },
     "execution_count": 87,
     "metadata": {},
     "output_type": "execute_result"
    }
   ],
   "source": [
    "#1D Array - vector\n",
    "el = np.array([1,2,3])\n",
    "el\n",
    "\n",
    "# el = [1 2 3]"
   ]
  },
  {
   "cell_type": "code",
   "execution_count": 89,
   "id": "34863ed6-97a0-4f59-aca6-fbdb265a3156",
   "metadata": {},
   "outputs": [
    {
     "data": {
      "text/plain": [
       "array([[ 2.4, -1.5,  1.1],\n",
       "       [ 2.3, -2.5, -5.6]])"
      ]
     },
     "execution_count": 89,
     "metadata": {},
     "output_type": "execute_result"
    }
   ],
   "source": [
    "#2D Array - matrix\n",
    "psy = np.array([(2.4,-1.5,1.1), (2.3,-2.5,-5.6)])\n",
    "psy\n",
    "\n",
    "# psy = [2.4 -1.5 1.1\n",
    "#        2.3 -2.5 -5.6]"
   ]
  },
  {
   "cell_type": "code",
   "execution_count": 91,
   "id": "8d51cdd8-8bdb-4a10-b0e3-a482d405ae4f",
   "metadata": {},
   "outputs": [
    {
     "data": {
      "text/plain": [
       "array([[[1.1, 2. , 3.4],\n",
       "        [7. , 2.5, 9. ]],\n",
       "\n",
       "       [[1. , 2. , 3. ],\n",
       "        [9. , 8. , 7. ]]])"
      ]
     },
     "execution_count": 91,
     "metadata": {},
     "output_type": "execute_result"
    }
   ],
   "source": [
    "#3D Array - tensor\n",
    "kongroo = np.array([[(1.1,2,3.4),(7,2.5,9)],[(1,2,3),(9,8,7)]])\n",
    "kongroo"
   ]
  },
  {
   "cell_type": "code",
   "execution_count": 94,
   "id": "41b77fe9-abcb-4b4b-bb4b-3c49b1a5643d",
   "metadata": {},
   "outputs": [
    {
     "data": {
      "text/plain": [
       "array([[0., 0., 0.],\n",
       "       [0., 0., 0.]])"
      ]
     },
     "execution_count": 94,
     "metadata": {},
     "output_type": "execute_result"
    }
   ],
   "source": [
    "#Create an array of m x n x p zeros\n",
    "x = np.zeros((2,3)) #2 rows, 3 columns\n",
    "x"
   ]
  },
  {
   "cell_type": "code",
   "execution_count": 96,
   "id": "70d91fc2-f9da-4cc9-9623-5dd3a72060b0",
   "metadata": {},
   "outputs": [
    {
     "data": {
      "text/plain": [
       "array([[1., 1., 1.],\n",
       "       [1., 1., 1.]])"
      ]
     },
     "execution_count": 96,
     "metadata": {},
     "output_type": "execute_result"
    }
   ],
   "source": [
    "y = np.ones((2,3))\n",
    "y"
   ]
  },
  {
   "cell_type": "code",
   "execution_count": 99,
   "id": "61d403c9-3c6e-42d0-b6c2-bdd841c4bd8f",
   "metadata": {},
   "outputs": [
    {
     "data": {
      "text/plain": [
       "array([3. , 3.5, 4. , 4.5, 5. , 5.5, 6. , 6.5])"
      ]
     },
     "execution_count": 99,
     "metadata": {},
     "output_type": "execute_result"
    }
   ],
   "source": [
    "#Syntax: np.arange(first:last-interval:interval)\n",
    "\n",
    "z = np.arange(3,7,0.5)\n",
    "z"
   ]
  },
  {
   "cell_type": "code",
   "execution_count": 101,
   "id": "c14cde2c-87de-43fc-87e6-f95b8b44ddef",
   "metadata": {},
   "outputs": [
    {
     "data": {
      "text/plain": [
       "array([3.        , 3.44444444, 3.88888889, 4.33333333, 4.77777778,\n",
       "       5.22222222, 5.66666667, 6.11111111, 6.55555556, 7.        ])"
      ]
     },
     "execution_count": 101,
     "metadata": {},
     "output_type": "execute_result"
    }
   ],
   "source": [
    "#Syntax: np.linspace(first:last:number of samples)\n",
    "np.linspace(3,7,10)"
   ]
  },
  {
   "cell_type": "code",
   "execution_count": 104,
   "id": "2ac1d61c-5099-4a1a-88b5-47a89b4a3edc",
   "metadata": {},
   "outputs": [
    {
     "data": {
      "text/plain": [
       "array([[8, 8, 8],\n",
       "       [8, 8, 8]])"
      ]
     },
     "execution_count": 104,
     "metadata": {},
     "output_type": "execute_result"
    }
   ],
   "source": [
    "np.full((2,3),8)"
   ]
  },
  {
   "cell_type": "code",
   "execution_count": 106,
   "id": "4c4a4c98-4cde-4747-b738-0c1de989ecae",
   "metadata": {},
   "outputs": [
    {
     "data": {
      "text/plain": [
       "array([[1., 0., 0., 0.],\n",
       "       [0., 1., 0., 0.],\n",
       "       [0., 0., 1., 0.],\n",
       "       [0., 0., 0., 1.]])"
      ]
     },
     "execution_count": 106,
     "metadata": {},
     "output_type": "execute_result"
    }
   ],
   "source": [
    "# identity matrix: np.eye(m)\n",
    "np.eye(4)"
   ]
  },
  {
   "cell_type": "code",
   "execution_count": 108,
   "id": "cb6201a2-44c3-4606-9127-fe254e35569d",
   "metadata": {},
   "outputs": [
    {
     "data": {
      "text/plain": [
       "array([[0.37912122, 0.76281552, 0.28888578],\n",
       "       [0.60554853, 0.62895353, 0.61985271]])"
      ]
     },
     "execution_count": 108,
     "metadata": {},
     "output_type": "execute_result"
    }
   ],
   "source": [
    "np.random.random((2,3))"
   ]
  },
  {
   "cell_type": "code",
   "execution_count": 110,
   "id": "bd82564b-1030-480a-8ff6-0102ee5f9b43",
   "metadata": {},
   "outputs": [
    {
     "data": {
      "text/plain": [
       "array([[[1.5, 2. , 3. ],\n",
       "        [4. , 5. , 6. ]],\n",
       "\n",
       "       [[3. , 2. , 1. ],\n",
       "        [4. , 5. , 6. ]]])"
      ]
     },
     "execution_count": 110,
     "metadata": {},
     "output_type": "execute_result"
    }
   ],
   "source": [
    "#Viewing the contents on a numpy file\n",
    "#Syntax = np.load('filename.npy')\n",
    "data = np.load('epk.npy')\n",
    "data"
   ]
  },
  {
   "cell_type": "code",
   "execution_count": 112,
   "id": "5029f769-5f98-4f9c-9124-22b60b33644b",
   "metadata": {},
   "outputs": [
    {
     "data": {
      "text/plain": [
       "(2, 2, 3)"
      ]
     },
     "execution_count": 112,
     "metadata": {},
     "output_type": "execute_result"
    }
   ],
   "source": [
    "data.shape"
   ]
  },
  {
   "cell_type": "code",
   "execution_count": 114,
   "id": "e3aae897-e4b0-4179-bcaf-7627c1b2c053",
   "metadata": {},
   "outputs": [
    {
     "data": {
      "text/plain": [
       "3"
      ]
     },
     "execution_count": 114,
     "metadata": {},
     "output_type": "execute_result"
    }
   ],
   "source": [
    "data.ndim"
   ]
  },
  {
   "cell_type": "code",
   "execution_count": 116,
   "id": "173a959e-b45b-4d5a-a2f0-8287cc468c62",
   "metadata": {},
   "outputs": [
    {
     "data": {
      "text/plain": [
       "12"
      ]
     },
     "execution_count": 116,
     "metadata": {},
     "output_type": "execute_result"
    }
   ],
   "source": [
    "data.size"
   ]
  },
  {
   "cell_type": "markdown",
   "id": "3a53d4b4-0aeb-4bf8-bedf-95fd35d44f59",
   "metadata": {},
   "source": [
    "##### Python Demo 2: Arithmetic and Logical Operations on Arrays"
   ]
  },
  {
   "cell_type": "code",
   "execution_count": 119,
   "id": "c56bd07e-efbe-42ab-9cbd-8c13c788f444",
   "metadata": {},
   "outputs": [
    {
     "data": {
      "text/plain": [
       "array([[ 2,  4,  6],\n",
       "       [ 8, 10, 12]])"
      ]
     },
     "execution_count": 119,
     "metadata": {},
     "output_type": "execute_result"
    }
   ],
   "source": [
    "a = np.array([(2,4,6),(8,10,12)])\n",
    "a"
   ]
  },
  {
   "cell_type": "code",
   "execution_count": 121,
   "id": "b470f0c3-a0a4-4126-a05e-ea530c033d1d",
   "metadata": {},
   "outputs": [
    {
     "data": {
      "text/plain": [
       "array([[ 4,  9],\n",
       "       [16, 25],\n",
       "       [36, 49]])"
      ]
     },
     "execution_count": 121,
     "metadata": {},
     "output_type": "execute_result"
    }
   ],
   "source": [
    "b = np.array([(4,9),(16,25),(36,49)])\n",
    "b"
   ]
  },
  {
   "cell_type": "code",
   "execution_count": 123,
   "id": "bd736765-889e-466a-8a10-4f28e47154be",
   "metadata": {},
   "outputs": [
    {
     "data": {
      "text/plain": [
       "array([2, 3, 5])"
      ]
     },
     "execution_count": 123,
     "metadata": {},
     "output_type": "execute_result"
    }
   ],
   "source": [
    "c = np.array([2,3,5])\n",
    "c"
   ]
  },
  {
   "cell_type": "code",
   "execution_count": 125,
   "id": "f95ee339-a0dd-41e1-8011-5b34f889e93a",
   "metadata": {},
   "outputs": [
    {
     "data": {
      "text/plain": [
       "array([[ 0, -1, -1],\n",
       "       [-6, -7, -7]])"
      ]
     },
     "execution_count": 125,
     "metadata": {},
     "output_type": "execute_result"
    }
   ],
   "source": [
    "#Element-wise\n",
    "c-a"
   ]
  },
  {
   "cell_type": "code",
   "execution_count": 127,
   "id": "40778fd0-92b6-4277-b5c9-4fa2b57dd73f",
   "metadata": {},
   "outputs": [
    {
     "data": {
      "text/plain": [
       "array([[ 4,  7, 11],\n",
       "       [10, 13, 17]])"
      ]
     },
     "execution_count": 127,
     "metadata": {},
     "output_type": "execute_result"
    }
   ],
   "source": [
    "a+c"
   ]
  },
  {
   "cell_type": "code",
   "execution_count": 129,
   "id": "47512d61-2eec-415f-8f60-8b1109649044",
   "metadata": {},
   "outputs": [
    {
     "data": {
      "text/plain": [
       "array([[ 2,  4,  6],\n",
       "       [ 8, 10, 12]])"
      ]
     },
     "execution_count": 129,
     "metadata": {},
     "output_type": "execute_result"
    }
   ],
   "source": [
    "# = is an assignment operator\n",
    "c = a\n",
    "c"
   ]
  },
  {
   "cell_type": "code",
   "execution_count": 133,
   "id": "223af6e3-a5a0-45d6-bd69-8002e5079f25",
   "metadata": {},
   "outputs": [
    {
     "data": {
      "text/plain": [
       "array([2, 3, 5])"
      ]
     },
     "execution_count": 133,
     "metadata": {},
     "output_type": "execute_result"
    }
   ],
   "source": [
    "a = np.array([2, 3, 5])\n",
    "a"
   ]
  },
  {
   "cell_type": "code",
   "execution_count": 135,
   "id": "0650d78b-e96a-44e4-bc3f-73f80af922e0",
   "metadata": {},
   "outputs": [
    {
     "data": {
      "text/plain": [
       "array([[1, 2, 5],\n",
       "       [4, 5, 6],\n",
       "       [7, 8, 9]])"
      ]
     },
     "execution_count": 135,
     "metadata": {},
     "output_type": "execute_result"
    }
   ],
   "source": [
    "b = np.array([(1,2,5), (4,5,6), (7,8,9)])\n",
    "b"
   ]
  },
  {
   "cell_type": "code",
   "execution_count": 137,
   "id": "378102c8-d982-4632-90c2-6f0acc018317",
   "metadata": {},
   "outputs": [
    {
     "data": {
      "text/plain": [
       "array([[False, False,  True],\n",
       "       [False, False, False],\n",
       "       [False, False, False]])"
      ]
     },
     "execution_count": 137,
     "metadata": {},
     "output_type": "execute_result"
    }
   ],
   "source": [
    "#Element-wise\n",
    "a == b"
   ]
  },
  {
   "cell_type": "code",
   "execution_count": 139,
   "id": "9a9db076-23cf-4059-95fc-8348445823b4",
   "metadata": {},
   "outputs": [
    {
     "data": {
      "text/plain": [
       "False"
      ]
     },
     "execution_count": 139,
     "metadata": {},
     "output_type": "execute_result"
    }
   ],
   "source": [
    "np.array_equal(a,c)"
   ]
  },
  {
   "cell_type": "markdown",
   "id": "837ec55f-0f39-4d09-95a1-22663ab40b96",
   "metadata": {},
   "source": [
    "##### Python Demo 3: Subsetting, Slicing and Indexing of Arrays"
   ]
  },
  {
   "cell_type": "code",
   "execution_count": 142,
   "id": "0c2bd68b-ba12-447f-b621-5c136b546152",
   "metadata": {},
   "outputs": [
    {
     "data": {
      "text/plain": [
       "array([[1, 2, 3],\n",
       "       [4, 5, 6],\n",
       "       [7, 8, 9]])"
      ]
     },
     "execution_count": 142,
     "metadata": {},
     "output_type": "execute_result"
    }
   ],
   "source": [
    "A = np.array([(1,2,3),(4,5,6),(7,8,9)])\n",
    "A"
   ]
  },
  {
   "cell_type": "markdown",
   "id": "e0e289f7-c334-4b07-97c3-3d507711a129",
   "metadata": {},
   "source": [
    "Subsetting - getting a certain element from the array or structure"
   ]
  },
  {
   "cell_type": "code",
   "execution_count": 145,
   "id": "f5c37a42-5c29-4ace-8e8d-fb7ce30d3960",
   "metadata": {},
   "outputs": [
    {
     "data": {
      "text/plain": [
       "5"
      ]
     },
     "execution_count": 145,
     "metadata": {},
     "output_type": "execute_result"
    }
   ],
   "source": [
    "A[1,1] #or A[1][1]"
   ]
  },
  {
   "cell_type": "code",
   "execution_count": 147,
   "id": "ca9b887a-f84e-42ef-a565-8a61347467de",
   "metadata": {},
   "outputs": [
    {
     "data": {
      "text/plain": [
       "8"
      ]
     },
     "execution_count": 147,
     "metadata": {},
     "output_type": "execute_result"
    }
   ],
   "source": [
    "A[2,1]"
   ]
  },
  {
   "cell_type": "markdown",
   "id": "8369505d-86bc-4341-8323-4579659bf47b",
   "metadata": {},
   "source": [
    "Slicing - getting the portion from an array or structure"
   ]
  },
  {
   "cell_type": "code",
   "execution_count": 152,
   "id": "a7150701-baaa-47ad-afeb-470b5998ddd3",
   "metadata": {},
   "outputs": [
    {
     "data": {
      "text/plain": [
       "array([[1, 2, 3],\n",
       "       [4, 5, 6],\n",
       "       [7, 8, 9]])"
      ]
     },
     "execution_count": 152,
     "metadata": {},
     "output_type": "execute_result"
    }
   ],
   "source": [
    "A"
   ]
  },
  {
   "cell_type": "code",
   "execution_count": 154,
   "id": "bb14a83b-d216-4a87-b678-af50d8563022",
   "metadata": {},
   "outputs": [
    {
     "data": {
      "text/plain": [
       "array([[4, 5, 6],\n",
       "       [7, 8, 9]])"
      ]
     },
     "execution_count": 154,
     "metadata": {},
     "output_type": "execute_result"
    }
   ],
   "source": [
    "A[1:3]\n"
   ]
  },
  {
   "cell_type": "code",
   "execution_count": 156,
   "id": "42945f35-bce7-427d-b004-ac60368c2041",
   "metadata": {},
   "outputs": [
    {
     "data": {
      "text/plain": [
       "array([3, 6, 9])"
      ]
     },
     "execution_count": 156,
     "metadata": {},
     "output_type": "execute_result"
    }
   ],
   "source": [
    "A[0:3,2]"
   ]
  },
  {
   "cell_type": "code",
   "execution_count": 158,
   "id": "b5e3018d-f3ed-485b-a25d-7a149028e451",
   "metadata": {},
   "outputs": [
    {
     "data": {
      "text/plain": [
       "array([4, 5, 6])"
      ]
     },
     "execution_count": 158,
     "metadata": {},
     "output_type": "execute_result"
    }
   ],
   "source": [
    "A[1]"
   ]
  },
  {
   "cell_type": "code",
   "execution_count": 160,
   "id": "ef6eebf0-de9d-4416-b434-75c36cf5c427",
   "metadata": {},
   "outputs": [
    {
     "data": {
      "text/plain": [
       "array([1, 2, 3, 4, 5, 6])"
      ]
     },
     "execution_count": 160,
     "metadata": {},
     "output_type": "execute_result"
    }
   ],
   "source": [
    "A[A<7]"
   ]
  },
  {
   "cell_type": "code",
   "execution_count": 162,
   "id": "77acd373-bcd8-4659-865b-c8f15aa68be5",
   "metadata": {},
   "outputs": [
    {
     "data": {
      "text/plain": [
       "array([3, 4, 5, 6, 7, 8, 9])"
      ]
     },
     "execution_count": 162,
     "metadata": {},
     "output_type": "execute_result"
    }
   ],
   "source": [
    "A[A>2]"
   ]
  },
  {
   "cell_type": "code",
   "execution_count": 164,
   "id": "7bb65f92-c443-452c-96ce-b7c4b02507f6",
   "metadata": {},
   "outputs": [
    {
     "data": {
      "text/plain": [
       "array([5])"
      ]
     },
     "execution_count": 164,
     "metadata": {},
     "output_type": "execute_result"
    }
   ],
   "source": [
    "A[A==5]"
   ]
  },
  {
   "cell_type": "markdown",
   "id": "acbb524e-1be0-43db-bec9-38b1102319b1",
   "metadata": {},
   "source": [
    "##### Python Demo 4: ndarray Manipulation"
   ]
  },
  {
   "cell_type": "code",
   "execution_count": 167,
   "id": "de0e4407-6929-43f1-985a-96e203f6c9f1",
   "metadata": {},
   "outputs": [
    {
     "data": {
      "text/plain": [
       "array([3, 2, 1])"
      ]
     },
     "execution_count": 167,
     "metadata": {},
     "output_type": "execute_result"
    }
   ],
   "source": [
    "a = np.array([3,2,1])\n",
    "a"
   ]
  },
  {
   "cell_type": "code",
   "execution_count": 169,
   "id": "103baeff-4fc2-4de0-8b79-e8d491a19c7e",
   "metadata": {},
   "outputs": [
    {
     "data": {
      "text/plain": [
       "array([[4, 6, 5],\n",
       "       [3, 2, 1]])"
      ]
     },
     "execution_count": 169,
     "metadata": {},
     "output_type": "execute_result"
    }
   ],
   "source": [
    "b = np.array([(4,6,5),(3,2,1)])\n",
    "b"
   ]
  },
  {
   "cell_type": "code",
   "execution_count": 171,
   "id": "d094ed94-675c-4a58-b5c1-fe3d4838d28a",
   "metadata": {},
   "outputs": [
    {
     "data": {
      "text/plain": [
       "array([10., 15., 20.])"
      ]
     },
     "execution_count": 171,
     "metadata": {},
     "output_type": "execute_result"
    }
   ],
   "source": [
    "c = np.linspace(10,20,3)\n",
    "c"
   ]
  },
  {
   "cell_type": "code",
   "execution_count": 173,
   "id": "8d4ccd49-b61f-4640-839f-d244540c971c",
   "metadata": {},
   "outputs": [
    {
     "data": {
      "text/plain": [
       "array([[7, 7],\n",
       "       [7, 7]])"
      ]
     },
     "execution_count": 173,
     "metadata": {},
     "output_type": "execute_result"
    }
   ],
   "source": [
    "d = np.full((2,2),7)\n",
    "d"
   ]
  },
  {
   "cell_type": "code",
   "execution_count": 175,
   "id": "a673b17b-89bd-4cc3-a950-1471ddf9bc0d",
   "metadata": {},
   "outputs": [
    {
     "data": {
      "text/plain": [
       "array([[1., 0.],\n",
       "       [0., 1.]])"
      ]
     },
     "execution_count": 175,
     "metadata": {},
     "output_type": "execute_result"
    }
   ],
   "source": [
    "e = np.eye(2)\n",
    "e\n"
   ]
  },
  {
   "cell_type": "code",
   "execution_count": 177,
   "id": "f3d14494-0d5f-48ae-ae01-379590755ac4",
   "metadata": {},
   "outputs": [
    {
     "data": {
      "text/plain": [
       "array([1, 2, 3])"
      ]
     },
     "execution_count": 177,
     "metadata": {},
     "output_type": "execute_result"
    }
   ],
   "source": [
    "a.sort()\n",
    "a"
   ]
  },
  {
   "cell_type": "code",
   "execution_count": 179,
   "id": "5b6ef364-f94d-4f30-8625-bbb08d944ce1",
   "metadata": {},
   "outputs": [
    {
     "data": {
      "text/plain": [
       "array([[4, 6, 5],\n",
       "       [3, 2, 1]])"
      ]
     },
     "execution_count": 179,
     "metadata": {},
     "output_type": "execute_result"
    }
   ],
   "source": [
    "b"
   ]
  },
  {
   "cell_type": "code",
   "execution_count": 181,
   "id": "8edfb355-de6c-4a9a-9af1-bf9177e2456f",
   "metadata": {},
   "outputs": [
    {
     "data": {
      "text/plain": [
       "array([[3, 2, 1],\n",
       "       [4, 6, 5]])"
      ]
     },
     "execution_count": 181,
     "metadata": {},
     "output_type": "execute_result"
    }
   ],
   "source": [
    "b.sort(axis=0) #pag axis 0 by row\n",
    "b"
   ]
  },
  {
   "cell_type": "code",
   "execution_count": 183,
   "id": "5d2f10d6-758c-4824-b18c-97fb3ac55886",
   "metadata": {},
   "outputs": [
    {
     "data": {
      "text/plain": [
       "array([[1, 2, 3],\n",
       "       [4, 5, 6]])"
      ]
     },
     "execution_count": 183,
     "metadata": {},
     "output_type": "execute_result"
    }
   ],
   "source": [
    "b.sort(axis=1) #pag axis 1 by column\n",
    "b"
   ]
  },
  {
   "cell_type": "code",
   "execution_count": 185,
   "id": "8a0aba2d-499e-4b52-b022-e8763d1e81f3",
   "metadata": {},
   "outputs": [
    {
     "data": {
      "text/plain": [
       "(2, 3)"
      ]
     },
     "execution_count": 185,
     "metadata": {},
     "output_type": "execute_result"
    }
   ],
   "source": [
    "np.shape(b)"
   ]
  },
  {
   "cell_type": "code",
   "execution_count": 187,
   "id": "7aa8621c-2ac3-412b-b651-9695e2124057",
   "metadata": {},
   "outputs": [
    {
     "data": {
      "text/plain": [
       "array([[1, 2, 3],\n",
       "       [4, 5, 6]])"
      ]
     },
     "execution_count": 187,
     "metadata": {},
     "output_type": "execute_result"
    }
   ],
   "source": [
    "b.reshape(6,1).shape\n",
    "b"
   ]
  },
  {
   "cell_type": "code",
   "execution_count": 213,
   "id": "4fa6df2a-e216-4690-8ef1-9081b3a38825",
   "metadata": {},
   "outputs": [
    {
     "data": {
      "text/plain": [
       "array([[1],\n",
       "       [2],\n",
       "       [3],\n",
       "       [4],\n",
       "       [5],\n",
       "       [6]])"
      ]
     },
     "execution_count": 213,
     "metadata": {},
     "output_type": "execute_result"
    }
   ],
   "source": [
    "\n",
    "b.resize(6,1)\n",
    "b"
   ]
  },
  {
   "cell_type": "code",
   "execution_count": 191,
   "id": "82545005-9abd-4369-9cb0-9d030b53aba9",
   "metadata": {},
   "outputs": [
    {
     "data": {
      "text/plain": [
       "array([[7, 7],\n",
       "       [7, 7]])"
      ]
     },
     "execution_count": 191,
     "metadata": {},
     "output_type": "execute_result"
    }
   ],
   "source": [
    "d"
   ]
  },
  {
   "cell_type": "code",
   "execution_count": 193,
   "id": "a5abddb2-c054-47d1-92d5-b8ec6e16c9a1",
   "metadata": {},
   "outputs": [
    {
     "data": {
      "text/plain": [
       "array([[1., 0.],\n",
       "       [0., 1.]])"
      ]
     },
     "execution_count": 193,
     "metadata": {},
     "output_type": "execute_result"
    }
   ],
   "source": [
    "e"
   ]
  },
  {
   "cell_type": "code",
   "execution_count": 195,
   "id": "80f3073d-ef69-4dd6-a280-66a6880d831b",
   "metadata": {},
   "outputs": [
    {
     "data": {
      "text/plain": [
       "array([7., 7., 7., 7., 1., 0., 0., 1.])"
      ]
     },
     "execution_count": 195,
     "metadata": {},
     "output_type": "execute_result"
    }
   ],
   "source": [
    "np.append(d,e)"
   ]
  },
  {
   "cell_type": "code",
   "execution_count": 197,
   "id": "80f0d455-5230-4705-9863-af99871acf63",
   "metadata": {},
   "outputs": [
    {
     "data": {
      "text/plain": [
       "array([1, 2, 3])"
      ]
     },
     "execution_count": 197,
     "metadata": {},
     "output_type": "execute_result"
    }
   ],
   "source": [
    "a"
   ]
  },
  {
   "cell_type": "code",
   "execution_count": 199,
   "id": "6dcdce93-e3a7-40af-9b31-328f104d6508",
   "metadata": {},
   "outputs": [
    {
     "data": {
      "text/plain": [
       "array([1, 5, 2, 3])"
      ]
     },
     "execution_count": 199,
     "metadata": {},
     "output_type": "execute_result"
    }
   ],
   "source": [
    "np.insert(a,1,5)"
   ]
  },
  {
   "cell_type": "code",
   "execution_count": 201,
   "id": "03689c44-58ce-48ef-9169-3115537e7c19",
   "metadata": {},
   "outputs": [
    {
     "data": {
      "text/plain": [
       "array([1, 2])"
      ]
     },
     "execution_count": 201,
     "metadata": {},
     "output_type": "execute_result"
    }
   ],
   "source": [
    "np.delete(a,[2])"
   ]
  },
  {
   "cell_type": "code",
   "execution_count": 203,
   "id": "8a7db7f3-6b45-4df3-9ad5-161531f500c9",
   "metadata": {},
   "outputs": [
    {
     "data": {
      "text/plain": [
       "array([ 1.,  2.,  3., 10., 15., 20.])"
      ]
     },
     "execution_count": 203,
     "metadata": {},
     "output_type": "execute_result"
    }
   ],
   "source": [
    "np.concatenate((a,c),axis=0)"
   ]
  },
  {
   "cell_type": "code",
   "execution_count": 205,
   "id": "642eb81f-8523-4842-aaa3-acc86b064c05",
   "metadata": {},
   "outputs": [
    {
     "data": {
      "text/plain": [
       "array([[ 1.,  2.,  3.],\n",
       "       [10., 15., 20.]])"
      ]
     },
     "execution_count": 205,
     "metadata": {},
     "output_type": "execute_result"
    }
   ],
   "source": [
    "np.vstack((a,c))"
   ]
  },
  {
   "cell_type": "code",
   "execution_count": 207,
   "id": "c65df05f-37f6-4398-9d55-75ae3f12a3a7",
   "metadata": {},
   "outputs": [
    {
     "data": {
      "text/plain": [
       "array([[7., 7., 1., 0.],\n",
       "       [7., 7., 0., 1.]])"
      ]
     },
     "execution_count": 207,
     "metadata": {},
     "output_type": "execute_result"
    }
   ],
   "source": [
    "np.hstack((d,e))"
   ]
  },
  {
   "cell_type": "code",
   "execution_count": 209,
   "id": "23a87ab2-be0b-40fa-8ff5-25fd77fb38b1",
   "metadata": {},
   "outputs": [
    {
     "data": {
      "text/plain": [
       "[array([1]), array([2]), array([3])]"
      ]
     },
     "execution_count": 209,
     "metadata": {},
     "output_type": "execute_result"
    }
   ],
   "source": [
    "np.hsplit(a,3)"
   ]
  },
  {
   "cell_type": "code",
   "execution_count": 211,
   "id": "d250eb1b-f251-49eb-8e93-cd064c6cf4c3",
   "metadata": {},
   "outputs": [
    {
     "data": {
      "text/plain": [
       "[array([[1., 0.]]), array([[0., 1.]])]"
      ]
     },
     "execution_count": 211,
     "metadata": {},
     "output_type": "execute_result"
    }
   ],
   "source": [
    "np.vsplit(e,2)"
   ]
  },
  {
   "cell_type": "markdown",
   "id": "c4d24af6-f9e1-4832-94e8-58f0d8fc67d5",
   "metadata": {},
   "source": [
    "# Pandas"
   ]
  },
  {
   "cell_type": "markdown",
   "id": "f596029f-db60-48da-a45a-a02e60a9dd34",
   "metadata": {},
   "source": [
    "### Python Data Analysis (Pandas - from panel data) - core Python library that provides high-performance, easy-to-use data structures and data analysis tools for the Python programming language. "
   ]
  },
  {
   "cell_type": "markdown",
   "id": "2c6477b1-6f5f-4193-ae9e-af9f386a2eda",
   "metadata": {},
   "source": [
    "#### To access Pandas library, the import convention must be used: import pandas as pd"
   ]
  },
  {
   "cell_type": "code",
   "execution_count": 222,
   "id": "ff86d91a-8ceb-4d0f-8012-405f48bec2bd",
   "metadata": {},
   "outputs": [],
   "source": [
    "import pandas as pd"
   ]
  },
  {
   "cell_type": "markdown",
   "id": "d01a5921-a896-4a56-bad8-07dd34273cbd",
   "metadata": {},
   "source": [
    "Data Series - is a one-dimensional labeled array capable of holding any data type. "
   ]
  },
  {
   "cell_type": "code",
   "execution_count": 225,
   "id": "93069634-a4ba-4c26-96ab-15cbb824c586",
   "metadata": {},
   "outputs": [
    {
     "data": {
      "text/plain": [
       "a    3\n",
       "b   -5\n",
       "c    7\n",
       "d    4\n",
       "dtype: int64"
      ]
     },
     "execution_count": 225,
     "metadata": {},
     "output_type": "execute_result"
    }
   ],
   "source": [
    "s = pd.Series([3, -5, 7, 4], index=['a','b','c','d'])\n",
    "s"
   ]
  },
  {
   "cell_type": "markdown",
   "id": "1cfc8a0f-8c08-4f18-9f74-3ed3da5a499a",
   "metadata": {},
   "source": [
    "Data Frames - two-dimensional labeled data structure with columns of different data types. "
   ]
  },
  {
   "cell_type": "code",
   "execution_count": 228,
   "id": "60b49d4b-68d3-43f5-bd10-6f0c50a0059a",
   "metadata": {},
   "outputs": [
    {
     "data": {
      "text/html": [
       "<div>\n",
       "<style scoped>\n",
       "    .dataframe tbody tr th:only-of-type {\n",
       "        vertical-align: middle;\n",
       "    }\n",
       "\n",
       "    .dataframe tbody tr th {\n",
       "        vertical-align: top;\n",
       "    }\n",
       "\n",
       "    .dataframe thead th {\n",
       "        text-align: right;\n",
       "    }\n",
       "</style>\n",
       "<table border=\"1\" class=\"dataframe\">\n",
       "  <thead>\n",
       "    <tr style=\"text-align: right;\">\n",
       "      <th></th>\n",
       "      <th>Country</th>\n",
       "      <th>Capital</th>\n",
       "      <th>Population</th>\n",
       "    </tr>\n",
       "  </thead>\n",
       "  <tbody>\n",
       "    <tr>\n",
       "      <th>0</th>\n",
       "      <td>Belgium</td>\n",
       "      <td>Brussels</td>\n",
       "      <td>11190846</td>\n",
       "    </tr>\n",
       "    <tr>\n",
       "      <th>1</th>\n",
       "      <td>India</td>\n",
       "      <td>New Delhi</td>\n",
       "      <td>1303171035</td>\n",
       "    </tr>\n",
       "    <tr>\n",
       "      <th>2</th>\n",
       "      <td>Brazil</td>\n",
       "      <td>Brasilia</td>\n",
       "      <td>207847528</td>\n",
       "    </tr>\n",
       "  </tbody>\n",
       "</table>\n",
       "</div>"
      ],
      "text/plain": [
       "   Country    Capital  Population\n",
       "0  Belgium   Brussels    11190846\n",
       "1    India  New Delhi  1303171035\n",
       "2   Brazil   Brasilia   207847528"
      ]
     },
     "execution_count": 228,
     "metadata": {},
     "output_type": "execute_result"
    }
   ],
   "source": [
    "#Step 1 - create a dictionary\n",
    "data = {'Country': ['Belgium', 'India', 'Brazil'],\n",
    "       'Capital': ['Brussels', 'New Delhi', 'Brasilia'],\n",
    "       'Population': [11190846, 1303171035, 207847528]}\n",
    "\n",
    "#Step 2 - create a dataframe\n",
    "df = pd.DataFrame(data, columns=['Country', 'Capital', 'Population'])\n",
    "df"
   ]
  },
  {
   "cell_type": "markdown",
   "id": "3c4bb65b-6f36-44fd-8a92-e68cd91551f0",
   "metadata": {},
   "source": [
    "##### Python Demo 1: Creating a data series and dataframes using Pandas"
   ]
  },
  {
   "cell_type": "code",
   "execution_count": 231,
   "id": "eff2e420-7727-4efe-9282-3c7b41d955c1",
   "metadata": {},
   "outputs": [
    {
     "data": {
      "text/plain": [
       "2014    10.0\n",
       "2015    30.2\n",
       "2016    35.9\n",
       "2017    73.6\n",
       "2018    91.6\n",
       "2019    94.7\n",
       "dtype: float64"
      ]
     },
     "execution_count": 231,
     "metadata": {},
     "output_type": "execute_result"
    }
   ],
   "source": [
    "Global_PS4_sales = pd.Series([10.0, 30.2, 35.9, 73.6, 91.6, 94.7], index=[2014, 2015, 2016, 2017, 2018, 2019])\n",
    "Global_PS4_sales"
   ]
  },
  {
   "cell_type": "code",
   "execution_count": 233,
   "id": "c3ebf73f-499f-4aae-9916-a81767e7e339",
   "metadata": {},
   "outputs": [
    {
     "data": {
      "text/html": [
       "<div>\n",
       "<style scoped>\n",
       "    .dataframe tbody tr th:only-of-type {\n",
       "        vertical-align: middle;\n",
       "    }\n",
       "\n",
       "    .dataframe tbody tr th {\n",
       "        vertical-align: top;\n",
       "    }\n",
       "\n",
       "    .dataframe thead th {\n",
       "        text-align: right;\n",
       "    }\n",
       "</style>\n",
       "<table border=\"1\" class=\"dataframe\">\n",
       "  <thead>\n",
       "    <tr style=\"text-align: right;\">\n",
       "      <th></th>\n",
       "      <th>Character</th>\n",
       "      <th>Nen</th>\n",
       "      <th>Nen Type</th>\n",
       "      <th>Votes</th>\n",
       "    </tr>\n",
       "  </thead>\n",
       "  <tbody>\n",
       "    <tr>\n",
       "      <th>0</th>\n",
       "      <td>Killua</td>\n",
       "      <td>Kanmuru</td>\n",
       "      <td>Transmuter</td>\n",
       "      <td>7488</td>\n",
       "    </tr>\n",
       "    <tr>\n",
       "      <th>1</th>\n",
       "      <td>Kurapika</td>\n",
       "      <td>Jail Chain</td>\n",
       "      <td>Conjurer</td>\n",
       "      <td>7000</td>\n",
       "    </tr>\n",
       "    <tr>\n",
       "      <th>2</th>\n",
       "      <td>Gon</td>\n",
       "      <td>Jajanken</td>\n",
       "      <td>Enhancer</td>\n",
       "      <td>2472</td>\n",
       "    </tr>\n",
       "    <tr>\n",
       "      <th>3</th>\n",
       "      <td>Chrollo</td>\n",
       "      <td>Bandit Secret</td>\n",
       "      <td>Specialist</td>\n",
       "      <td>1904</td>\n",
       "    </tr>\n",
       "    <tr>\n",
       "      <th>4</th>\n",
       "      <td>Hisoka</td>\n",
       "      <td>Bungee Gum</td>\n",
       "      <td>Transmuter</td>\n",
       "      <td>1144</td>\n",
       "    </tr>\n",
       "  </tbody>\n",
       "</table>\n",
       "</div>"
      ],
      "text/plain": [
       "  Character            Nen    Nen Type  Votes\n",
       "0    Killua        Kanmuru  Transmuter   7488\n",
       "1  Kurapika     Jail Chain    Conjurer   7000\n",
       "2       Gon       Jajanken    Enhancer   2472\n",
       "3   Chrollo  Bandit Secret  Specialist   1904\n",
       "4    Hisoka     Bungee Gum  Transmuter   1144"
      ]
     },
     "execution_count": 233,
     "metadata": {},
     "output_type": "execute_result"
    }
   ],
   "source": [
    "data = {'Character': ['Killua', 'Kurapika', 'Gon', 'Chrollo', 'Hisoka'],\n",
    "       'Nen': ['Kanmuru', 'Jail Chain', 'Jajanken', 'Bandit Secret', 'Bungee Gum'],\n",
    "       'Nen Type': ['Transmuter', 'Conjurer', 'Enhancer', 'Specialist', 'Transmuter'],\n",
    "       'Votes': [7488, 7000, 2472, 1904, 1144]}\n",
    "\n",
    "HxH_Popularity_Poll = pd.DataFrame(data, columns=['Character', 'Nen', 'Nen Type', 'Votes'])\n",
    "\n",
    "HxH_Popularity_Poll"
   ]
  },
  {
   "cell_type": "code",
   "execution_count": 235,
   "id": "a4d526e6-5798-42ff-97fe-98533cdaa53f",
   "metadata": {},
   "outputs": [],
   "source": [
    "HxH_Popularity_Poll.to_csv('MyDataframe.csv')"
   ]
  },
  {
   "cell_type": "code",
   "execution_count": 237,
   "id": "1304b503-884d-4855-a9a2-a904e6a229f8",
   "metadata": {},
   "outputs": [
    {
     "data": {
      "text/html": [
       "<div>\n",
       "<style scoped>\n",
       "    .dataframe tbody tr th:only-of-type {\n",
       "        vertical-align: middle;\n",
       "    }\n",
       "\n",
       "    .dataframe tbody tr th {\n",
       "        vertical-align: top;\n",
       "    }\n",
       "\n",
       "    .dataframe thead th {\n",
       "        text-align: right;\n",
       "    }\n",
       "</style>\n",
       "<table border=\"1\" class=\"dataframe\">\n",
       "  <thead>\n",
       "    <tr style=\"text-align: right;\">\n",
       "      <th></th>\n",
       "      <th>Unnamed: 0</th>\n",
       "      <th>Ozone</th>\n",
       "      <th>Solar.R</th>\n",
       "      <th>Wind</th>\n",
       "      <th>Temp</th>\n",
       "      <th>Month</th>\n",
       "      <th>Day</th>\n",
       "    </tr>\n",
       "  </thead>\n",
       "  <tbody>\n",
       "    <tr>\n",
       "      <th>0</th>\n",
       "      <td>1</td>\n",
       "      <td>41.0</td>\n",
       "      <td>190.0</td>\n",
       "      <td>7.4</td>\n",
       "      <td>67</td>\n",
       "      <td>5</td>\n",
       "      <td>1</td>\n",
       "    </tr>\n",
       "    <tr>\n",
       "      <th>1</th>\n",
       "      <td>2</td>\n",
       "      <td>36.0</td>\n",
       "      <td>118.0</td>\n",
       "      <td>8.0</td>\n",
       "      <td>72</td>\n",
       "      <td>5</td>\n",
       "      <td>2</td>\n",
       "    </tr>\n",
       "    <tr>\n",
       "      <th>2</th>\n",
       "      <td>3</td>\n",
       "      <td>12.0</td>\n",
       "      <td>149.0</td>\n",
       "      <td>12.6</td>\n",
       "      <td>74</td>\n",
       "      <td>5</td>\n",
       "      <td>3</td>\n",
       "    </tr>\n",
       "    <tr>\n",
       "      <th>3</th>\n",
       "      <td>4</td>\n",
       "      <td>18.0</td>\n",
       "      <td>313.0</td>\n",
       "      <td>11.5</td>\n",
       "      <td>62</td>\n",
       "      <td>5</td>\n",
       "      <td>4</td>\n",
       "    </tr>\n",
       "    <tr>\n",
       "      <th>4</th>\n",
       "      <td>5</td>\n",
       "      <td>NaN</td>\n",
       "      <td>NaN</td>\n",
       "      <td>14.3</td>\n",
       "      <td>56</td>\n",
       "      <td>5</td>\n",
       "      <td>5</td>\n",
       "    </tr>\n",
       "    <tr>\n",
       "      <th>...</th>\n",
       "      <td>...</td>\n",
       "      <td>...</td>\n",
       "      <td>...</td>\n",
       "      <td>...</td>\n",
       "      <td>...</td>\n",
       "      <td>...</td>\n",
       "      <td>...</td>\n",
       "    </tr>\n",
       "    <tr>\n",
       "      <th>148</th>\n",
       "      <td>149</td>\n",
       "      <td>30.0</td>\n",
       "      <td>193.0</td>\n",
       "      <td>6.9</td>\n",
       "      <td>70</td>\n",
       "      <td>9</td>\n",
       "      <td>26</td>\n",
       "    </tr>\n",
       "    <tr>\n",
       "      <th>149</th>\n",
       "      <td>150</td>\n",
       "      <td>NaN</td>\n",
       "      <td>145.0</td>\n",
       "      <td>13.2</td>\n",
       "      <td>77</td>\n",
       "      <td>9</td>\n",
       "      <td>27</td>\n",
       "    </tr>\n",
       "    <tr>\n",
       "      <th>150</th>\n",
       "      <td>151</td>\n",
       "      <td>14.0</td>\n",
       "      <td>191.0</td>\n",
       "      <td>14.3</td>\n",
       "      <td>75</td>\n",
       "      <td>9</td>\n",
       "      <td>28</td>\n",
       "    </tr>\n",
       "    <tr>\n",
       "      <th>151</th>\n",
       "      <td>152</td>\n",
       "      <td>18.0</td>\n",
       "      <td>131.0</td>\n",
       "      <td>8.0</td>\n",
       "      <td>76</td>\n",
       "      <td>9</td>\n",
       "      <td>29</td>\n",
       "    </tr>\n",
       "    <tr>\n",
       "      <th>152</th>\n",
       "      <td>153</td>\n",
       "      <td>20.0</td>\n",
       "      <td>223.0</td>\n",
       "      <td>11.5</td>\n",
       "      <td>68</td>\n",
       "      <td>9</td>\n",
       "      <td>30</td>\n",
       "    </tr>\n",
       "  </tbody>\n",
       "</table>\n",
       "<p>153 rows × 7 columns</p>\n",
       "</div>"
      ],
      "text/plain": [
       "     Unnamed: 0  Ozone  Solar.R  Wind  Temp  Month  Day\n",
       "0             1   41.0    190.0   7.4    67      5    1\n",
       "1             2   36.0    118.0   8.0    72      5    2\n",
       "2             3   12.0    149.0  12.6    74      5    3\n",
       "3             4   18.0    313.0  11.5    62      5    4\n",
       "4             5    NaN      NaN  14.3    56      5    5\n",
       "..          ...    ...      ...   ...   ...    ...  ...\n",
       "148         149   30.0    193.0   6.9    70      9   26\n",
       "149         150    NaN    145.0  13.2    77      9   27\n",
       "150         151   14.0    191.0  14.3    75      9   28\n",
       "151         152   18.0    131.0   8.0    76      9   29\n",
       "152         153   20.0    223.0  11.5    68      9   30\n",
       "\n",
       "[153 rows x 7 columns]"
      ]
     },
     "execution_count": 237,
     "metadata": {},
     "output_type": "execute_result"
    }
   ],
   "source": [
    "aqd = pd.read_csv('aqd.csv')\n",
    "aqd"
   ]
  },
  {
   "cell_type": "code",
   "execution_count": 239,
   "id": "569669f0-4de9-4e86-a743-5e55420080bc",
   "metadata": {},
   "outputs": [
    {
     "data": {
      "text/html": [
       "<div>\n",
       "<style scoped>\n",
       "    .dataframe tbody tr th:only-of-type {\n",
       "        vertical-align: middle;\n",
       "    }\n",
       "\n",
       "    .dataframe tbody tr th {\n",
       "        vertical-align: top;\n",
       "    }\n",
       "\n",
       "    .dataframe thead th {\n",
       "        text-align: right;\n",
       "    }\n",
       "</style>\n",
       "<table border=\"1\" class=\"dataframe\">\n",
       "  <thead>\n",
       "    <tr style=\"text-align: right;\">\n",
       "      <th></th>\n",
       "      <th>Unnamed: 0</th>\n",
       "      <th>Ozone</th>\n",
       "      <th>Solar.R</th>\n",
       "      <th>Wind</th>\n",
       "      <th>Temp</th>\n",
       "      <th>Month</th>\n",
       "      <th>Day</th>\n",
       "    </tr>\n",
       "  </thead>\n",
       "  <tbody>\n",
       "    <tr>\n",
       "      <th>0</th>\n",
       "      <td>1</td>\n",
       "      <td>41.0</td>\n",
       "      <td>190.0</td>\n",
       "      <td>7.4</td>\n",
       "      <td>67</td>\n",
       "      <td>5</td>\n",
       "      <td>1</td>\n",
       "    </tr>\n",
       "    <tr>\n",
       "      <th>1</th>\n",
       "      <td>2</td>\n",
       "      <td>36.0</td>\n",
       "      <td>118.0</td>\n",
       "      <td>8.0</td>\n",
       "      <td>72</td>\n",
       "      <td>5</td>\n",
       "      <td>2</td>\n",
       "    </tr>\n",
       "    <tr>\n",
       "      <th>2</th>\n",
       "      <td>3</td>\n",
       "      <td>12.0</td>\n",
       "      <td>149.0</td>\n",
       "      <td>12.6</td>\n",
       "      <td>74</td>\n",
       "      <td>5</td>\n",
       "      <td>3</td>\n",
       "    </tr>\n",
       "    <tr>\n",
       "      <th>3</th>\n",
       "      <td>4</td>\n",
       "      <td>18.0</td>\n",
       "      <td>313.0</td>\n",
       "      <td>11.5</td>\n",
       "      <td>62</td>\n",
       "      <td>5</td>\n",
       "      <td>4</td>\n",
       "    </tr>\n",
       "    <tr>\n",
       "      <th>4</th>\n",
       "      <td>5</td>\n",
       "      <td>NaN</td>\n",
       "      <td>NaN</td>\n",
       "      <td>14.3</td>\n",
       "      <td>56</td>\n",
       "      <td>5</td>\n",
       "      <td>5</td>\n",
       "    </tr>\n",
       "  </tbody>\n",
       "</table>\n",
       "</div>"
      ],
      "text/plain": [
       "   Unnamed: 0  Ozone  Solar.R  Wind  Temp  Month  Day\n",
       "0           1   41.0    190.0   7.4    67      5    1\n",
       "1           2   36.0    118.0   8.0    72      5    2\n",
       "2           3   12.0    149.0  12.6    74      5    3\n",
       "3           4   18.0    313.0  11.5    62      5    4\n",
       "4           5    NaN      NaN  14.3    56      5    5"
      ]
     },
     "execution_count": 239,
     "metadata": {},
     "output_type": "execute_result"
    }
   ],
   "source": [
    "aqd.head()"
   ]
  },
  {
   "cell_type": "code",
   "execution_count": 241,
   "id": "840aee59-df80-42fa-9c43-3636204de85d",
   "metadata": {},
   "outputs": [
    {
     "data": {
      "text/html": [
       "<div>\n",
       "<style scoped>\n",
       "    .dataframe tbody tr th:only-of-type {\n",
       "        vertical-align: middle;\n",
       "    }\n",
       "\n",
       "    .dataframe tbody tr th {\n",
       "        vertical-align: top;\n",
       "    }\n",
       "\n",
       "    .dataframe thead th {\n",
       "        text-align: right;\n",
       "    }\n",
       "</style>\n",
       "<table border=\"1\" class=\"dataframe\">\n",
       "  <thead>\n",
       "    <tr style=\"text-align: right;\">\n",
       "      <th></th>\n",
       "      <th>Unnamed: 0</th>\n",
       "      <th>Ozone</th>\n",
       "      <th>Solar.R</th>\n",
       "      <th>Wind</th>\n",
       "      <th>Temp</th>\n",
       "      <th>Month</th>\n",
       "      <th>Day</th>\n",
       "    </tr>\n",
       "  </thead>\n",
       "  <tbody>\n",
       "    <tr>\n",
       "      <th>148</th>\n",
       "      <td>149</td>\n",
       "      <td>30.0</td>\n",
       "      <td>193.0</td>\n",
       "      <td>6.9</td>\n",
       "      <td>70</td>\n",
       "      <td>9</td>\n",
       "      <td>26</td>\n",
       "    </tr>\n",
       "    <tr>\n",
       "      <th>149</th>\n",
       "      <td>150</td>\n",
       "      <td>NaN</td>\n",
       "      <td>145.0</td>\n",
       "      <td>13.2</td>\n",
       "      <td>77</td>\n",
       "      <td>9</td>\n",
       "      <td>27</td>\n",
       "    </tr>\n",
       "    <tr>\n",
       "      <th>150</th>\n",
       "      <td>151</td>\n",
       "      <td>14.0</td>\n",
       "      <td>191.0</td>\n",
       "      <td>14.3</td>\n",
       "      <td>75</td>\n",
       "      <td>9</td>\n",
       "      <td>28</td>\n",
       "    </tr>\n",
       "    <tr>\n",
       "      <th>151</th>\n",
       "      <td>152</td>\n",
       "      <td>18.0</td>\n",
       "      <td>131.0</td>\n",
       "      <td>8.0</td>\n",
       "      <td>76</td>\n",
       "      <td>9</td>\n",
       "      <td>29</td>\n",
       "    </tr>\n",
       "    <tr>\n",
       "      <th>152</th>\n",
       "      <td>153</td>\n",
       "      <td>20.0</td>\n",
       "      <td>223.0</td>\n",
       "      <td>11.5</td>\n",
       "      <td>68</td>\n",
       "      <td>9</td>\n",
       "      <td>30</td>\n",
       "    </tr>\n",
       "  </tbody>\n",
       "</table>\n",
       "</div>"
      ],
      "text/plain": [
       "     Unnamed: 0  Ozone  Solar.R  Wind  Temp  Month  Day\n",
       "148         149   30.0    193.0   6.9    70      9   26\n",
       "149         150    NaN    145.0  13.2    77      9   27\n",
       "150         151   14.0    191.0  14.3    75      9   28\n",
       "151         152   18.0    131.0   8.0    76      9   29\n",
       "152         153   20.0    223.0  11.5    68      9   30"
      ]
     },
     "execution_count": 241,
     "metadata": {},
     "output_type": "execute_result"
    }
   ],
   "source": [
    "aqd.tail()"
   ]
  },
  {
   "cell_type": "markdown",
   "id": "129ee488-31bd-4516-a0b4-1b111817190c",
   "metadata": {},
   "source": [
    "##### Python Demo 2: Subsetting, Slicing and Indexing of Data Structures"
   ]
  },
  {
   "cell_type": "markdown",
   "id": "9fd6002b-fb7e-4143-ad89-5a3c9071bced",
   "metadata": {},
   "source": [
    "Subsetting -> certain element (1)"
   ]
  },
  {
   "cell_type": "code",
   "execution_count": 245,
   "id": "de6b8a44-b310-4da4-b9c7-70404df87404",
   "metadata": {},
   "outputs": [
    {
     "data": {
      "text/plain": [
       "2014    10.0\n",
       "2015    30.2\n",
       "2016    35.9\n",
       "2017    73.6\n",
       "2018    91.6\n",
       "2019    94.7\n",
       "dtype: float64"
      ]
     },
     "execution_count": 245,
     "metadata": {},
     "output_type": "execute_result"
    }
   ],
   "source": [
    "s = Global_PS4_sales\n",
    "s"
   ]
  },
  {
   "cell_type": "code",
   "execution_count": 247,
   "id": "d69893e4-22b0-45bc-9012-97a2bbee76d2",
   "metadata": {},
   "outputs": [
    {
     "data": {
      "text/html": [
       "<div>\n",
       "<style scoped>\n",
       "    .dataframe tbody tr th:only-of-type {\n",
       "        vertical-align: middle;\n",
       "    }\n",
       "\n",
       "    .dataframe tbody tr th {\n",
       "        vertical-align: top;\n",
       "    }\n",
       "\n",
       "    .dataframe thead th {\n",
       "        text-align: right;\n",
       "    }\n",
       "</style>\n",
       "<table border=\"1\" class=\"dataframe\">\n",
       "  <thead>\n",
       "    <tr style=\"text-align: right;\">\n",
       "      <th></th>\n",
       "      <th>Character</th>\n",
       "      <th>Nen</th>\n",
       "      <th>Nen Type</th>\n",
       "      <th>Votes</th>\n",
       "    </tr>\n",
       "  </thead>\n",
       "  <tbody>\n",
       "    <tr>\n",
       "      <th>0</th>\n",
       "      <td>Killua</td>\n",
       "      <td>Kanmuru</td>\n",
       "      <td>Transmuter</td>\n",
       "      <td>7488</td>\n",
       "    </tr>\n",
       "    <tr>\n",
       "      <th>1</th>\n",
       "      <td>Kurapika</td>\n",
       "      <td>Jail Chain</td>\n",
       "      <td>Conjurer</td>\n",
       "      <td>7000</td>\n",
       "    </tr>\n",
       "    <tr>\n",
       "      <th>2</th>\n",
       "      <td>Gon</td>\n",
       "      <td>Jajanken</td>\n",
       "      <td>Enhancer</td>\n",
       "      <td>2472</td>\n",
       "    </tr>\n",
       "    <tr>\n",
       "      <th>3</th>\n",
       "      <td>Chrollo</td>\n",
       "      <td>Bandit Secret</td>\n",
       "      <td>Specialist</td>\n",
       "      <td>1904</td>\n",
       "    </tr>\n",
       "    <tr>\n",
       "      <th>4</th>\n",
       "      <td>Hisoka</td>\n",
       "      <td>Bungee Gum</td>\n",
       "      <td>Transmuter</td>\n",
       "      <td>1144</td>\n",
       "    </tr>\n",
       "  </tbody>\n",
       "</table>\n",
       "</div>"
      ],
      "text/plain": [
       "  Character            Nen    Nen Type  Votes\n",
       "0    Killua        Kanmuru  Transmuter   7488\n",
       "1  Kurapika     Jail Chain    Conjurer   7000\n",
       "2       Gon       Jajanken    Enhancer   2472\n",
       "3   Chrollo  Bandit Secret  Specialist   1904\n",
       "4    Hisoka     Bungee Gum  Transmuter   1144"
      ]
     },
     "execution_count": 247,
     "metadata": {},
     "output_type": "execute_result"
    }
   ],
   "source": [
    "df = HxH_Popularity_Poll\n",
    "df"
   ]
  },
  {
   "cell_type": "code",
   "execution_count": 249,
   "id": "00a18bb3-6dd0-450c-8082-46ab958ef553",
   "metadata": {},
   "outputs": [
    {
     "data": {
      "text/plain": [
       "35.9"
      ]
     },
     "execution_count": 249,
     "metadata": {},
     "output_type": "execute_result"
    }
   ],
   "source": [
    "s[2016]"
   ]
  },
  {
   "cell_type": "code",
   "execution_count": 251,
   "id": "53249f8f-a18e-44bd-8797-cc9c0f6852de",
   "metadata": {},
   "outputs": [
    {
     "data": {
      "text/html": [
       "<div>\n",
       "<style scoped>\n",
       "    .dataframe tbody tr th:only-of-type {\n",
       "        vertical-align: middle;\n",
       "    }\n",
       "\n",
       "    .dataframe tbody tr th {\n",
       "        vertical-align: top;\n",
       "    }\n",
       "\n",
       "    .dataframe thead th {\n",
       "        text-align: right;\n",
       "    }\n",
       "</style>\n",
       "<table border=\"1\" class=\"dataframe\">\n",
       "  <thead>\n",
       "    <tr style=\"text-align: right;\">\n",
       "      <th></th>\n",
       "      <th>Nen Type</th>\n",
       "    </tr>\n",
       "  </thead>\n",
       "  <tbody>\n",
       "    <tr>\n",
       "      <th>3</th>\n",
       "      <td>Specialist</td>\n",
       "    </tr>\n",
       "  </tbody>\n",
       "</table>\n",
       "</div>"
      ],
      "text/plain": [
       "     Nen Type\n",
       "3  Specialist"
      ]
     },
     "execution_count": 251,
     "metadata": {},
     "output_type": "execute_result"
    }
   ],
   "source": [
    "# iloc - m row, n column indexes\n",
    "df.iloc[[3],[2]]"
   ]
  },
  {
   "cell_type": "code",
   "execution_count": 253,
   "id": "fa66977a-2bd8-4cae-aad6-e392456e00ab",
   "metadata": {},
   "outputs": [
    {
     "data": {
      "text/html": [
       "<div>\n",
       "<style scoped>\n",
       "    .dataframe tbody tr th:only-of-type {\n",
       "        vertical-align: middle;\n",
       "    }\n",
       "\n",
       "    .dataframe tbody tr th {\n",
       "        vertical-align: top;\n",
       "    }\n",
       "\n",
       "    .dataframe thead th {\n",
       "        text-align: right;\n",
       "    }\n",
       "</style>\n",
       "<table border=\"1\" class=\"dataframe\">\n",
       "  <thead>\n",
       "    <tr style=\"text-align: right;\">\n",
       "      <th></th>\n",
       "      <th>Nen</th>\n",
       "    </tr>\n",
       "  </thead>\n",
       "  <tbody>\n",
       "    <tr>\n",
       "      <th>2</th>\n",
       "      <td>Jajanken</td>\n",
       "    </tr>\n",
       "  </tbody>\n",
       "</table>\n",
       "</div>"
      ],
      "text/plain": [
       "        Nen\n",
       "2  Jajanken"
      ]
     },
     "execution_count": 253,
     "metadata": {},
     "output_type": "execute_result"
    }
   ],
   "source": [
    "# loc - m row index, column name\n",
    "df.loc[[2], ['Nen']]"
   ]
  },
  {
   "cell_type": "code",
   "execution_count": 255,
   "id": "d70789f8-5da3-4978-9506-fce39dc1f332",
   "metadata": {},
   "outputs": [
    {
     "data": {
      "text/plain": [
       "2014    10.0\n",
       "2015    30.2\n",
       "2016    35.9\n",
       "2017    73.6\n",
       "2018    91.6\n",
       "2019    94.7\n",
       "dtype: float64"
      ]
     },
     "execution_count": 255,
     "metadata": {},
     "output_type": "execute_result"
    }
   ],
   "source": [
    "s"
   ]
  },
  {
   "cell_type": "code",
   "execution_count": 257,
   "id": "9cf71edb-6910-4771-a63f-2fab474ea945",
   "metadata": {},
   "outputs": [
    {
     "data": {
      "text/plain": [
       "2017    73.6\n",
       "2018    91.6\n",
       "2019    94.7\n",
       "dtype: float64"
      ]
     },
     "execution_count": 257,
     "metadata": {},
     "output_type": "execute_result"
    }
   ],
   "source": [
    "s[3:6]"
   ]
  },
  {
   "cell_type": "code",
   "execution_count": 259,
   "id": "f42e28d2-0165-45a9-a778-a9af78a2d954",
   "metadata": {},
   "outputs": [
    {
     "data": {
      "text/html": [
       "<div>\n",
       "<style scoped>\n",
       "    .dataframe tbody tr th:only-of-type {\n",
       "        vertical-align: middle;\n",
       "    }\n",
       "\n",
       "    .dataframe tbody tr th {\n",
       "        vertical-align: top;\n",
       "    }\n",
       "\n",
       "    .dataframe thead th {\n",
       "        text-align: right;\n",
       "    }\n",
       "</style>\n",
       "<table border=\"1\" class=\"dataframe\">\n",
       "  <thead>\n",
       "    <tr style=\"text-align: right;\">\n",
       "      <th></th>\n",
       "      <th>Character</th>\n",
       "      <th>Nen</th>\n",
       "      <th>Nen Type</th>\n",
       "      <th>Votes</th>\n",
       "    </tr>\n",
       "  </thead>\n",
       "  <tbody>\n",
       "    <tr>\n",
       "      <th>0</th>\n",
       "      <td>Killua</td>\n",
       "      <td>Kanmuru</td>\n",
       "      <td>Transmuter</td>\n",
       "      <td>7488</td>\n",
       "    </tr>\n",
       "    <tr>\n",
       "      <th>1</th>\n",
       "      <td>Kurapika</td>\n",
       "      <td>Jail Chain</td>\n",
       "      <td>Conjurer</td>\n",
       "      <td>7000</td>\n",
       "    </tr>\n",
       "    <tr>\n",
       "      <th>2</th>\n",
       "      <td>Gon</td>\n",
       "      <td>Jajanken</td>\n",
       "      <td>Enhancer</td>\n",
       "      <td>2472</td>\n",
       "    </tr>\n",
       "    <tr>\n",
       "      <th>3</th>\n",
       "      <td>Chrollo</td>\n",
       "      <td>Bandit Secret</td>\n",
       "      <td>Specialist</td>\n",
       "      <td>1904</td>\n",
       "    </tr>\n",
       "    <tr>\n",
       "      <th>4</th>\n",
       "      <td>Hisoka</td>\n",
       "      <td>Bungee Gum</td>\n",
       "      <td>Transmuter</td>\n",
       "      <td>1144</td>\n",
       "    </tr>\n",
       "  </tbody>\n",
       "</table>\n",
       "</div>"
      ],
      "text/plain": [
       "  Character            Nen    Nen Type  Votes\n",
       "0    Killua        Kanmuru  Transmuter   7488\n",
       "1  Kurapika     Jail Chain    Conjurer   7000\n",
       "2       Gon       Jajanken    Enhancer   2472\n",
       "3   Chrollo  Bandit Secret  Specialist   1904\n",
       "4    Hisoka     Bungee Gum  Transmuter   1144"
      ]
     },
     "execution_count": 259,
     "metadata": {},
     "output_type": "execute_result"
    }
   ],
   "source": [
    "df"
   ]
  },
  {
   "cell_type": "code",
   "execution_count": 261,
   "id": "a9abc7a9-f146-43df-a007-6e9788867dc9",
   "metadata": {},
   "outputs": [
    {
     "data": {
      "text/html": [
       "<div>\n",
       "<style scoped>\n",
       "    .dataframe tbody tr th:only-of-type {\n",
       "        vertical-align: middle;\n",
       "    }\n",
       "\n",
       "    .dataframe tbody tr th {\n",
       "        vertical-align: top;\n",
       "    }\n",
       "\n",
       "    .dataframe thead th {\n",
       "        text-align: right;\n",
       "    }\n",
       "</style>\n",
       "<table border=\"1\" class=\"dataframe\">\n",
       "  <thead>\n",
       "    <tr style=\"text-align: right;\">\n",
       "      <th></th>\n",
       "      <th>Character</th>\n",
       "      <th>Nen</th>\n",
       "      <th>Nen Type</th>\n",
       "      <th>Votes</th>\n",
       "    </tr>\n",
       "  </thead>\n",
       "  <tbody>\n",
       "    <tr>\n",
       "      <th>2</th>\n",
       "      <td>Gon</td>\n",
       "      <td>Jajanken</td>\n",
       "      <td>Enhancer</td>\n",
       "      <td>2472</td>\n",
       "    </tr>\n",
       "  </tbody>\n",
       "</table>\n",
       "</div>"
      ],
      "text/plain": [
       "  Character       Nen  Nen Type  Votes\n",
       "2       Gon  Jajanken  Enhancer   2472"
      ]
     },
     "execution_count": 261,
     "metadata": {},
     "output_type": "execute_result"
    }
   ],
   "source": [
    "df[2:3]"
   ]
  },
  {
   "cell_type": "code",
   "execution_count": 263,
   "id": "70bf592e-45be-47a0-96b4-6fd5c3646fad",
   "metadata": {},
   "outputs": [
    {
     "data": {
      "text/html": [
       "<div>\n",
       "<style scoped>\n",
       "    .dataframe tbody tr th:only-of-type {\n",
       "        vertical-align: middle;\n",
       "    }\n",
       "\n",
       "    .dataframe tbody tr th {\n",
       "        vertical-align: top;\n",
       "    }\n",
       "\n",
       "    .dataframe thead th {\n",
       "        text-align: right;\n",
       "    }\n",
       "</style>\n",
       "<table border=\"1\" class=\"dataframe\">\n",
       "  <thead>\n",
       "    <tr style=\"text-align: right;\">\n",
       "      <th></th>\n",
       "      <th>Nen Type</th>\n",
       "    </tr>\n",
       "  </thead>\n",
       "  <tbody>\n",
       "    <tr>\n",
       "      <th>0</th>\n",
       "      <td>Transmuter</td>\n",
       "    </tr>\n",
       "    <tr>\n",
       "      <th>1</th>\n",
       "      <td>Conjurer</td>\n",
       "    </tr>\n",
       "    <tr>\n",
       "      <th>2</th>\n",
       "      <td>Enhancer</td>\n",
       "    </tr>\n",
       "    <tr>\n",
       "      <th>3</th>\n",
       "      <td>Specialist</td>\n",
       "    </tr>\n",
       "    <tr>\n",
       "      <th>4</th>\n",
       "      <td>Transmuter</td>\n",
       "    </tr>\n",
       "  </tbody>\n",
       "</table>\n",
       "</div>"
      ],
      "text/plain": [
       "     Nen Type\n",
       "0  Transmuter\n",
       "1    Conjurer\n",
       "2    Enhancer\n",
       "3  Specialist\n",
       "4  Transmuter"
      ]
     },
     "execution_count": 263,
     "metadata": {},
     "output_type": "execute_result"
    }
   ],
   "source": [
    "df.loc[:,['Nen Type']]"
   ]
  },
  {
   "cell_type": "code",
   "execution_count": 265,
   "id": "33af336a-7047-46e6-b760-3334df04f603",
   "metadata": {},
   "outputs": [
    {
     "data": {
      "text/html": [
       "<div>\n",
       "<style scoped>\n",
       "    .dataframe tbody tr th:only-of-type {\n",
       "        vertical-align: middle;\n",
       "    }\n",
       "\n",
       "    .dataframe tbody tr th {\n",
       "        vertical-align: top;\n",
       "    }\n",
       "\n",
       "    .dataframe thead th {\n",
       "        text-align: right;\n",
       "    }\n",
       "</style>\n",
       "<table border=\"1\" class=\"dataframe\">\n",
       "  <thead>\n",
       "    <tr style=\"text-align: right;\">\n",
       "      <th></th>\n",
       "      <th>Character</th>\n",
       "      <th>Votes</th>\n",
       "    </tr>\n",
       "  </thead>\n",
       "  <tbody>\n",
       "    <tr>\n",
       "      <th>0</th>\n",
       "      <td>Killua</td>\n",
       "      <td>7488</td>\n",
       "    </tr>\n",
       "    <tr>\n",
       "      <th>1</th>\n",
       "      <td>Kurapika</td>\n",
       "      <td>7000</td>\n",
       "    </tr>\n",
       "  </tbody>\n",
       "</table>\n",
       "</div>"
      ],
      "text/plain": [
       "  Character  Votes\n",
       "0    Killua   7488\n",
       "1  Kurapika   7000"
      ]
     },
     "execution_count": 265,
     "metadata": {},
     "output_type": "execute_result"
    }
   ],
   "source": [
    "df.loc[[0,1],['Character', 'Votes']]"
   ]
  },
  {
   "cell_type": "code",
   "execution_count": 267,
   "id": "12de207f-fa0d-40bc-8320-f583c0ebf73e",
   "metadata": {},
   "outputs": [
    {
     "data": {
      "text/plain": [
       "2014    10.0\n",
       "2015    30.2\n",
       "2016    35.9\n",
       "2017    73.6\n",
       "2018    91.6\n",
       "2019    94.7\n",
       "dtype: float64"
      ]
     },
     "execution_count": 267,
     "metadata": {},
     "output_type": "execute_result"
    }
   ],
   "source": [
    "s"
   ]
  },
  {
   "cell_type": "code",
   "execution_count": 269,
   "id": "e54ba379-face-42cd-8861-fbcb5f253ad0",
   "metadata": {},
   "outputs": [
    {
     "data": {
      "text/plain": [
       "2015    30.2\n",
       "2016    35.9\n",
       "2017    73.6\n",
       "2018    91.6\n",
       "2019    94.7\n",
       "dtype: float64"
      ]
     },
     "execution_count": 269,
     "metadata": {},
     "output_type": "execute_result"
    }
   ],
   "source": [
    "s[s>30]"
   ]
  },
  {
   "cell_type": "code",
   "execution_count": 271,
   "id": "466ff31b-1cce-48a0-8bf3-11a81ad8aa20",
   "metadata": {},
   "outputs": [
    {
     "data": {
      "text/html": [
       "<div>\n",
       "<style scoped>\n",
       "    .dataframe tbody tr th:only-of-type {\n",
       "        vertical-align: middle;\n",
       "    }\n",
       "\n",
       "    .dataframe tbody tr th {\n",
       "        vertical-align: top;\n",
       "    }\n",
       "\n",
       "    .dataframe thead th {\n",
       "        text-align: right;\n",
       "    }\n",
       "</style>\n",
       "<table border=\"1\" class=\"dataframe\">\n",
       "  <thead>\n",
       "    <tr style=\"text-align: right;\">\n",
       "      <th></th>\n",
       "      <th>Character</th>\n",
       "      <th>Nen</th>\n",
       "      <th>Nen Type</th>\n",
       "      <th>Votes</th>\n",
       "    </tr>\n",
       "  </thead>\n",
       "  <tbody>\n",
       "    <tr>\n",
       "      <th>0</th>\n",
       "      <td>Killua</td>\n",
       "      <td>Kanmuru</td>\n",
       "      <td>Transmuter</td>\n",
       "      <td>7488</td>\n",
       "    </tr>\n",
       "    <tr>\n",
       "      <th>1</th>\n",
       "      <td>Kurapika</td>\n",
       "      <td>Jail Chain</td>\n",
       "      <td>Conjurer</td>\n",
       "      <td>7000</td>\n",
       "    </tr>\n",
       "    <tr>\n",
       "      <th>2</th>\n",
       "      <td>Gon</td>\n",
       "      <td>Jajanken</td>\n",
       "      <td>Enhancer</td>\n",
       "      <td>2472</td>\n",
       "    </tr>\n",
       "    <tr>\n",
       "      <th>3</th>\n",
       "      <td>Chrollo</td>\n",
       "      <td>Bandit Secret</td>\n",
       "      <td>Specialist</td>\n",
       "      <td>1904</td>\n",
       "    </tr>\n",
       "    <tr>\n",
       "      <th>4</th>\n",
       "      <td>Hisoka</td>\n",
       "      <td>Bungee Gum</td>\n",
       "      <td>Transmuter</td>\n",
       "      <td>1144</td>\n",
       "    </tr>\n",
       "  </tbody>\n",
       "</table>\n",
       "</div>"
      ],
      "text/plain": [
       "  Character            Nen    Nen Type  Votes\n",
       "0    Killua        Kanmuru  Transmuter   7488\n",
       "1  Kurapika     Jail Chain    Conjurer   7000\n",
       "2       Gon       Jajanken    Enhancer   2472\n",
       "3   Chrollo  Bandit Secret  Specialist   1904\n",
       "4    Hisoka     Bungee Gum  Transmuter   1144"
      ]
     },
     "execution_count": 271,
     "metadata": {},
     "output_type": "execute_result"
    }
   ],
   "source": [
    "df"
   ]
  },
  {
   "cell_type": "code",
   "execution_count": 273,
   "id": "2ff5a041-00fb-4bb5-8dc6-af17949d8be8",
   "metadata": {},
   "outputs": [
    {
     "data": {
      "text/html": [
       "<div>\n",
       "<style scoped>\n",
       "    .dataframe tbody tr th:only-of-type {\n",
       "        vertical-align: middle;\n",
       "    }\n",
       "\n",
       "    .dataframe tbody tr th {\n",
       "        vertical-align: top;\n",
       "    }\n",
       "\n",
       "    .dataframe thead th {\n",
       "        text-align: right;\n",
       "    }\n",
       "</style>\n",
       "<table border=\"1\" class=\"dataframe\">\n",
       "  <thead>\n",
       "    <tr style=\"text-align: right;\">\n",
       "      <th></th>\n",
       "      <th>Character</th>\n",
       "      <th>Nen</th>\n",
       "      <th>Nen Type</th>\n",
       "      <th>Votes</th>\n",
       "    </tr>\n",
       "  </thead>\n",
       "  <tbody>\n",
       "    <tr>\n",
       "      <th>2</th>\n",
       "      <td>Gon</td>\n",
       "      <td>Jajanken</td>\n",
       "      <td>Enhancer</td>\n",
       "      <td>2472</td>\n",
       "    </tr>\n",
       "    <tr>\n",
       "      <th>3</th>\n",
       "      <td>Chrollo</td>\n",
       "      <td>Bandit Secret</td>\n",
       "      <td>Specialist</td>\n",
       "      <td>1904</td>\n",
       "    </tr>\n",
       "    <tr>\n",
       "      <th>4</th>\n",
       "      <td>Hisoka</td>\n",
       "      <td>Bungee Gum</td>\n",
       "      <td>Transmuter</td>\n",
       "      <td>1144</td>\n",
       "    </tr>\n",
       "  </tbody>\n",
       "</table>\n",
       "</div>"
      ],
      "text/plain": [
       "  Character            Nen    Nen Type  Votes\n",
       "2       Gon       Jajanken    Enhancer   2472\n",
       "3   Chrollo  Bandit Secret  Specialist   1904\n",
       "4    Hisoka     Bungee Gum  Transmuter   1144"
      ]
     },
     "execution_count": 273,
     "metadata": {},
     "output_type": "execute_result"
    }
   ],
   "source": [
    "df.loc[(df['Votes']>1000)&(df['Votes']<5000)]"
   ]
  },
  {
   "cell_type": "code",
   "execution_count": 275,
   "id": "3ba20b83-02cd-4b51-9ca2-8637f78f4318",
   "metadata": {},
   "outputs": [
    {
     "data": {
      "text/html": [
       "<div>\n",
       "<style scoped>\n",
       "    .dataframe tbody tr th:only-of-type {\n",
       "        vertical-align: middle;\n",
       "    }\n",
       "\n",
       "    .dataframe tbody tr th {\n",
       "        vertical-align: top;\n",
       "    }\n",
       "\n",
       "    .dataframe thead th {\n",
       "        text-align: right;\n",
       "    }\n",
       "</style>\n",
       "<table border=\"1\" class=\"dataframe\">\n",
       "  <thead>\n",
       "    <tr style=\"text-align: right;\">\n",
       "      <th></th>\n",
       "      <th>Character</th>\n",
       "      <th>Nen</th>\n",
       "      <th>Nen Type</th>\n",
       "      <th>Votes</th>\n",
       "    </tr>\n",
       "  </thead>\n",
       "  <tbody>\n",
       "    <tr>\n",
       "      <th>0</th>\n",
       "      <td>Killua</td>\n",
       "      <td>Kanmuru</td>\n",
       "      <td>Transmuter</td>\n",
       "      <td>7488</td>\n",
       "    </tr>\n",
       "    <tr>\n",
       "      <th>4</th>\n",
       "      <td>Hisoka</td>\n",
       "      <td>Bungee Gum</td>\n",
       "      <td>Transmuter</td>\n",
       "      <td>1144</td>\n",
       "    </tr>\n",
       "  </tbody>\n",
       "</table>\n",
       "</div>"
      ],
      "text/plain": [
       "  Character         Nen    Nen Type  Votes\n",
       "0    Killua     Kanmuru  Transmuter   7488\n",
       "4    Hisoka  Bungee Gum  Transmuter   1144"
      ]
     },
     "execution_count": 275,
     "metadata": {},
     "output_type": "execute_result"
    }
   ],
   "source": [
    "df.loc[df['Nen Type']=='Transmuter']"
   ]
  },
  {
   "cell_type": "code",
   "execution_count": 277,
   "id": "e5d7b833-9988-48ec-888b-6865e1b9a7a1",
   "metadata": {},
   "outputs": [
    {
     "data": {
      "text/html": [
       "<div>\n",
       "<style scoped>\n",
       "    .dataframe tbody tr th:only-of-type {\n",
       "        vertical-align: middle;\n",
       "    }\n",
       "\n",
       "    .dataframe tbody tr th {\n",
       "        vertical-align: top;\n",
       "    }\n",
       "\n",
       "    .dataframe thead th {\n",
       "        text-align: right;\n",
       "    }\n",
       "</style>\n",
       "<table border=\"1\" class=\"dataframe\">\n",
       "  <thead>\n",
       "    <tr style=\"text-align: right;\">\n",
       "      <th></th>\n",
       "      <th>Character</th>\n",
       "    </tr>\n",
       "  </thead>\n",
       "  <tbody>\n",
       "    <tr>\n",
       "      <th>0</th>\n",
       "      <td>Killua</td>\n",
       "    </tr>\n",
       "  </tbody>\n",
       "</table>\n",
       "</div>"
      ],
      "text/plain": [
       "  Character\n",
       "0    Killua"
      ]
     },
     "execution_count": 277,
     "metadata": {},
     "output_type": "execute_result"
    }
   ],
   "source": [
    "df.loc[(df['Nen']=='Kanmuru'), ['Character']]"
   ]
  },
  {
   "cell_type": "code",
   "execution_count": 279,
   "id": "41bf16c8-3c95-4cd5-b2e9-3672899381e5",
   "metadata": {},
   "outputs": [
    {
     "data": {
      "text/html": [
       "<div>\n",
       "<style scoped>\n",
       "    .dataframe tbody tr th:only-of-type {\n",
       "        vertical-align: middle;\n",
       "    }\n",
       "\n",
       "    .dataframe tbody tr th {\n",
       "        vertical-align: top;\n",
       "    }\n",
       "\n",
       "    .dataframe thead th {\n",
       "        text-align: right;\n",
       "    }\n",
       "</style>\n",
       "<table border=\"1\" class=\"dataframe\">\n",
       "  <thead>\n",
       "    <tr style=\"text-align: right;\">\n",
       "      <th></th>\n",
       "      <th>Character</th>\n",
       "      <th>Nen</th>\n",
       "      <th>Votes</th>\n",
       "    </tr>\n",
       "  </thead>\n",
       "  <tbody>\n",
       "    <tr>\n",
       "      <th>0</th>\n",
       "      <td>Killua</td>\n",
       "      <td>Kanmuru</td>\n",
       "      <td>7488</td>\n",
       "    </tr>\n",
       "    <tr>\n",
       "      <th>4</th>\n",
       "      <td>Hisoka</td>\n",
       "      <td>Bungee Gum</td>\n",
       "      <td>1144</td>\n",
       "    </tr>\n",
       "  </tbody>\n",
       "</table>\n",
       "</div>"
      ],
      "text/plain": [
       "  Character         Nen  Votes\n",
       "0    Killua     Kanmuru   7488\n",
       "4    Hisoka  Bungee Gum   1144"
      ]
     },
     "execution_count": 279,
     "metadata": {},
     "output_type": "execute_result"
    }
   ],
   "source": [
    "df.loc[df['Nen Type']=='Transmuter', ['Character', 'Nen', 'Votes']]"
   ]
  },
  {
   "cell_type": "code",
   "execution_count": 281,
   "id": "57df1005-2abd-461a-a7a1-3e8d1b3e4942",
   "metadata": {},
   "outputs": [
    {
     "data": {
      "text/html": [
       "<div>\n",
       "<style scoped>\n",
       "    .dataframe tbody tr th:only-of-type {\n",
       "        vertical-align: middle;\n",
       "    }\n",
       "\n",
       "    .dataframe tbody tr th {\n",
       "        vertical-align: top;\n",
       "    }\n",
       "\n",
       "    .dataframe thead th {\n",
       "        text-align: right;\n",
       "    }\n",
       "</style>\n",
       "<table border=\"1\" class=\"dataframe\">\n",
       "  <thead>\n",
       "    <tr style=\"text-align: right;\">\n",
       "      <th></th>\n",
       "      <th>Country</th>\n",
       "      <th>Year</th>\n",
       "      <th>Key</th>\n",
       "      <th>Value</th>\n",
       "    </tr>\n",
       "  </thead>\n",
       "  <tbody>\n",
       "    <tr>\n",
       "      <th>0</th>\n",
       "      <td>Afghanistan</td>\n",
       "      <td>1999</td>\n",
       "      <td>Cases</td>\n",
       "      <td>745</td>\n",
       "    </tr>\n",
       "    <tr>\n",
       "      <th>1</th>\n",
       "      <td>Afghanistan</td>\n",
       "      <td>1999</td>\n",
       "      <td>Population</td>\n",
       "      <td>19987071</td>\n",
       "    </tr>\n",
       "    <tr>\n",
       "      <th>2</th>\n",
       "      <td>Afghanistan</td>\n",
       "      <td>2000</td>\n",
       "      <td>Cases</td>\n",
       "      <td>2666</td>\n",
       "    </tr>\n",
       "    <tr>\n",
       "      <th>3</th>\n",
       "      <td>Afghanistan</td>\n",
       "      <td>2000</td>\n",
       "      <td>Population</td>\n",
       "      <td>20595360</td>\n",
       "    </tr>\n",
       "    <tr>\n",
       "      <th>4</th>\n",
       "      <td>Brazil</td>\n",
       "      <td>1999</td>\n",
       "      <td>Cases</td>\n",
       "      <td>37737</td>\n",
       "    </tr>\n",
       "    <tr>\n",
       "      <th>5</th>\n",
       "      <td>Brazil</td>\n",
       "      <td>1999</td>\n",
       "      <td>Population</td>\n",
       "      <td>172006362</td>\n",
       "    </tr>\n",
       "    <tr>\n",
       "      <th>6</th>\n",
       "      <td>Brazil</td>\n",
       "      <td>2000</td>\n",
       "      <td>Cases</td>\n",
       "      <td>80488</td>\n",
       "    </tr>\n",
       "    <tr>\n",
       "      <th>7</th>\n",
       "      <td>Brazil</td>\n",
       "      <td>2000</td>\n",
       "      <td>Population</td>\n",
       "      <td>174504898</td>\n",
       "    </tr>\n",
       "    <tr>\n",
       "      <th>8</th>\n",
       "      <td>China</td>\n",
       "      <td>1999</td>\n",
       "      <td>Cases</td>\n",
       "      <td>212258</td>\n",
       "    </tr>\n",
       "    <tr>\n",
       "      <th>9</th>\n",
       "      <td>China</td>\n",
       "      <td>1999</td>\n",
       "      <td>Population</td>\n",
       "      <td>1272915272</td>\n",
       "    </tr>\n",
       "    <tr>\n",
       "      <th>10</th>\n",
       "      <td>China</td>\n",
       "      <td>2000</td>\n",
       "      <td>Cases</td>\n",
       "      <td>213766</td>\n",
       "    </tr>\n",
       "    <tr>\n",
       "      <th>11</th>\n",
       "      <td>China</td>\n",
       "      <td>2000</td>\n",
       "      <td>Population</td>\n",
       "      <td>1280428583</td>\n",
       "    </tr>\n",
       "  </tbody>\n",
       "</table>\n",
       "</div>"
      ],
      "text/plain": [
       "        Country  Year         Key       Value\n",
       "0   Afghanistan  1999       Cases         745\n",
       "1   Afghanistan  1999  Population    19987071\n",
       "2   Afghanistan  2000       Cases        2666\n",
       "3   Afghanistan  2000  Population    20595360\n",
       "4        Brazil  1999       Cases       37737\n",
       "5        Brazil  1999  Population   172006362\n",
       "6        Brazil  2000       Cases       80488\n",
       "7        Brazil  2000  Population   174504898\n",
       "8         China  1999       Cases      212258\n",
       "9         China  1999  Population  1272915272\n",
       "10        China  2000       Cases      213766\n",
       "11        China  2000  Population  1280428583"
      ]
     },
     "execution_count": 281,
     "metadata": {},
     "output_type": "execute_result"
    }
   ],
   "source": [
    "data = {\n",
    "    'Country':['Afghanistan', 'Afghanistan', 'Afghanistan', 'Afghanistan', 'Brazil', 'Brazil', 'Brazil', 'Brazil', 'China', 'China', 'China', 'China'],\n",
    "    'Year': [1999, 1999, 2000, 2000, 1999, 1999, 2000, 2000, 1999, 1999, 2000, 2000],\n",
    "    'Key': ['Cases', 'Population', 'Cases', 'Population', 'Cases', 'Population', 'Cases', 'Population', 'Cases', 'Population', 'Cases', 'Population'],\n",
    "    'Value': [745, 19987071, 2666, 20595360, 37737, 172006362, 80488, 174504898, 212258, 1272915272, 213766, 1280428583]\n",
    "}\n",
    "\n",
    "messy = pd.DataFrame(data, columns = ['Country', 'Year', 'Key', 'Value'])\n",
    "messy"
   ]
  },
  {
   "cell_type": "code",
   "execution_count": 283,
   "id": "dd6189a9-8637-4336-bfbb-74f3b8371ab9",
   "metadata": {},
   "outputs": [
    {
     "data": {
      "text/html": [
       "<div>\n",
       "<style scoped>\n",
       "    .dataframe tbody tr th:only-of-type {\n",
       "        vertical-align: middle;\n",
       "    }\n",
       "\n",
       "    .dataframe tbody tr th {\n",
       "        vertical-align: top;\n",
       "    }\n",
       "\n",
       "    .dataframe thead th {\n",
       "        text-align: right;\n",
       "    }\n",
       "</style>\n",
       "<table border=\"1\" class=\"dataframe\">\n",
       "  <thead>\n",
       "    <tr style=\"text-align: right;\">\n",
       "      <th>Key</th>\n",
       "      <th>Country</th>\n",
       "      <th>Year</th>\n",
       "      <th>Cases</th>\n",
       "      <th>Population</th>\n",
       "    </tr>\n",
       "  </thead>\n",
       "  <tbody>\n",
       "    <tr>\n",
       "      <th>0</th>\n",
       "      <td>Afghanistan</td>\n",
       "      <td>1999</td>\n",
       "      <td>745.0</td>\n",
       "      <td>1.998707e+07</td>\n",
       "    </tr>\n",
       "    <tr>\n",
       "      <th>1</th>\n",
       "      <td>Afghanistan</td>\n",
       "      <td>2000</td>\n",
       "      <td>2666.0</td>\n",
       "      <td>2.059536e+07</td>\n",
       "    </tr>\n",
       "    <tr>\n",
       "      <th>2</th>\n",
       "      <td>Brazil</td>\n",
       "      <td>1999</td>\n",
       "      <td>37737.0</td>\n",
       "      <td>1.720064e+08</td>\n",
       "    </tr>\n",
       "    <tr>\n",
       "      <th>3</th>\n",
       "      <td>Brazil</td>\n",
       "      <td>2000</td>\n",
       "      <td>80488.0</td>\n",
       "      <td>1.745049e+08</td>\n",
       "    </tr>\n",
       "    <tr>\n",
       "      <th>4</th>\n",
       "      <td>China</td>\n",
       "      <td>1999</td>\n",
       "      <td>212258.0</td>\n",
       "      <td>1.272915e+09</td>\n",
       "    </tr>\n",
       "    <tr>\n",
       "      <th>5</th>\n",
       "      <td>China</td>\n",
       "      <td>2000</td>\n",
       "      <td>213766.0</td>\n",
       "      <td>1.280429e+09</td>\n",
       "    </tr>\n",
       "  </tbody>\n",
       "</table>\n",
       "</div>"
      ],
      "text/plain": [
       "Key      Country  Year     Cases    Population\n",
       "0    Afghanistan  1999     745.0  1.998707e+07\n",
       "1    Afghanistan  2000    2666.0  2.059536e+07\n",
       "2         Brazil  1999   37737.0  1.720064e+08\n",
       "3         Brazil  2000   80488.0  1.745049e+08\n",
       "4          China  1999  212258.0  1.272915e+09\n",
       "5          China  2000  213766.0  1.280429e+09"
      ]
     },
     "execution_count": 283,
     "metadata": {},
     "output_type": "execute_result"
    }
   ],
   "source": [
    "#To convert rows into columns of data, use pivot_table\n",
    "tidy = messy.pivot_table(index=['Country', 'Year'], columns = 'Key', values = 'Value').reset_index()\n",
    "tidy"
   ]
  },
  {
   "cell_type": "code",
   "execution_count": 285,
   "id": "50763a66-53d1-44c0-94e4-4cc2a7c6fe45",
   "metadata": {},
   "outputs": [
    {
     "data": {
      "text/plain": [
       "213766.0"
      ]
     },
     "execution_count": 285,
     "metadata": {},
     "output_type": "execute_result"
    }
   ],
   "source": [
    "tidy.loc[5,'Cases']"
   ]
  },
  {
   "cell_type": "code",
   "execution_count": 287,
   "id": "50634967-6cd2-4625-91af-4173e93669ce",
   "metadata": {},
   "outputs": [
    {
     "data": {
      "text/plain": [
       "0.00021939304779901105"
      ]
     },
     "execution_count": 287,
     "metadata": {},
     "output_type": "execute_result"
    }
   ],
   "source": [
    "tidy.loc[2,'Cases']/tidy.loc[2,'Population']"
   ]
  },
  {
   "cell_type": "code",
   "execution_count": 289,
   "id": "2fbb3497-d5f3-47f3-881f-31720d3a7d84",
   "metadata": {},
   "outputs": [
    {
     "data": {
      "text/html": [
       "<div>\n",
       "<style scoped>\n",
       "    .dataframe tbody tr th:only-of-type {\n",
       "        vertical-align: middle;\n",
       "    }\n",
       "\n",
       "    .dataframe tbody tr th {\n",
       "        vertical-align: top;\n",
       "    }\n",
       "\n",
       "    .dataframe thead th {\n",
       "        text-align: right;\n",
       "    }\n",
       "</style>\n",
       "<table border=\"1\" class=\"dataframe\">\n",
       "  <thead>\n",
       "    <tr style=\"text-align: right;\">\n",
       "      <th></th>\n",
       "      <th>Student</th>\n",
       "      <th>2014</th>\n",
       "      <th>2015</th>\n",
       "    </tr>\n",
       "  </thead>\n",
       "  <tbody>\n",
       "    <tr>\n",
       "      <th>0</th>\n",
       "      <td>Ice Bear</td>\n",
       "      <td>80</td>\n",
       "      <td>85</td>\n",
       "    </tr>\n",
       "    <tr>\n",
       "      <th>1</th>\n",
       "      <td>Panda</td>\n",
       "      <td>95</td>\n",
       "      <td>81</td>\n",
       "    </tr>\n",
       "    <tr>\n",
       "      <th>2</th>\n",
       "      <td>Grizzly</td>\n",
       "      <td>79</td>\n",
       "      <td>83</td>\n",
       "    </tr>\n",
       "  </tbody>\n",
       "</table>\n",
       "</div>"
      ],
      "text/plain": [
       "    Student  2014  2015\n",
       "0  Ice Bear    80    85\n",
       "1     Panda    95    81\n",
       "2   Grizzly    79    83"
      ]
     },
     "execution_count": 289,
     "metadata": {},
     "output_type": "execute_result"
    }
   ],
   "source": [
    "data = {\n",
    "    'Student':['Ice Bear', 'Panda', 'Grizzly'],\n",
    "    '2014': [80, 95, 79],\n",
    "    '2015': [85, 81, 83]\n",
    "}\n",
    "\n",
    "webarebears = pd.DataFrame(data, columns = ['Student', '2014', '2015'])\n",
    "webarebears"
   ]
  },
  {
   "cell_type": "markdown",
   "id": "e4167802-d551-4db5-98e8-ba7678cf3c3c",
   "metadata": {},
   "source": [
    "# To convert columns into rows, use melt\n",
    "pd.melt(webarebears, id_vars = ['Student'], value_vars = ['2014', '2015'], var_name = 'Year', value_name = 'Grades').sort_values(by='Student').reset_index(drop=True)"
   ]
  },
  {
   "cell_type": "code",
   "execution_count": 293,
   "id": "6701f1c6-8e12-4555-aa95-247c646df2c5",
   "metadata": {},
   "outputs": [
    {
     "data": {
      "text/html": [
       "<div>\n",
       "<style scoped>\n",
       "    .dataframe tbody tr th:only-of-type {\n",
       "        vertical-align: middle;\n",
       "    }\n",
       "\n",
       "    .dataframe tbody tr th {\n",
       "        vertical-align: top;\n",
       "    }\n",
       "\n",
       "    .dataframe thead th {\n",
       "        text-align: right;\n",
       "    }\n",
       "</style>\n",
       "<table border=\"1\" class=\"dataframe\">\n",
       "  <thead>\n",
       "    <tr style=\"text-align: right;\">\n",
       "      <th></th>\n",
       "      <th>student name</th>\n",
       "      <th>Math</th>\n",
       "      <th>Electronics</th>\n",
       "      <th>GEAS</th>\n",
       "      <th>Communication</th>\n",
       "    </tr>\n",
       "  </thead>\n",
       "  <tbody>\n",
       "    <tr>\n",
       "      <th>0</th>\n",
       "      <td>Student1</td>\n",
       "      <td>98</td>\n",
       "      <td>78</td>\n",
       "      <td>86</td>\n",
       "      <td>90</td>\n",
       "    </tr>\n",
       "    <tr>\n",
       "      <th>1</th>\n",
       "      <td>Student2</td>\n",
       "      <td>91</td>\n",
       "      <td>77</td>\n",
       "      <td>90</td>\n",
       "      <td>85</td>\n",
       "    </tr>\n",
       "    <tr>\n",
       "      <th>2</th>\n",
       "      <td>Student3</td>\n",
       "      <td>71</td>\n",
       "      <td>83</td>\n",
       "      <td>78</td>\n",
       "      <td>84</td>\n",
       "    </tr>\n",
       "    <tr>\n",
       "      <th>3</th>\n",
       "      <td>Student4</td>\n",
       "      <td>63</td>\n",
       "      <td>56</td>\n",
       "      <td>83</td>\n",
       "      <td>83</td>\n",
       "    </tr>\n",
       "    <tr>\n",
       "      <th>4</th>\n",
       "      <td>Student5</td>\n",
       "      <td>55</td>\n",
       "      <td>94</td>\n",
       "      <td>89</td>\n",
       "      <td>82</td>\n",
       "    </tr>\n",
       "    <tr>\n",
       "      <th>5</th>\n",
       "      <td>Student6</td>\n",
       "      <td>90</td>\n",
       "      <td>57</td>\n",
       "      <td>70</td>\n",
       "      <td>81</td>\n",
       "    </tr>\n",
       "    <tr>\n",
       "      <th>6</th>\n",
       "      <td>Student7</td>\n",
       "      <td>88</td>\n",
       "      <td>90</td>\n",
       "      <td>88</td>\n",
       "      <td>76</td>\n",
       "    </tr>\n",
       "    <tr>\n",
       "      <th>7</th>\n",
       "      <td>Student8</td>\n",
       "      <td>54</td>\n",
       "      <td>49</td>\n",
       "      <td>78</td>\n",
       "      <td>77</td>\n",
       "    </tr>\n",
       "    <tr>\n",
       "      <th>8</th>\n",
       "      <td>Student9</td>\n",
       "      <td>32</td>\n",
       "      <td>45</td>\n",
       "      <td>88</td>\n",
       "      <td>41</td>\n",
       "    </tr>\n",
       "    <tr>\n",
       "      <th>9</th>\n",
       "      <td>Student10</td>\n",
       "      <td>90</td>\n",
       "      <td>86</td>\n",
       "      <td>90</td>\n",
       "      <td>89</td>\n",
       "    </tr>\n",
       "    <tr>\n",
       "      <th>10</th>\n",
       "      <td>Student11</td>\n",
       "      <td>58</td>\n",
       "      <td>57</td>\n",
       "      <td>66</td>\n",
       "      <td>77</td>\n",
       "    </tr>\n",
       "    <tr>\n",
       "      <th>11</th>\n",
       "      <td>Student12</td>\n",
       "      <td>88</td>\n",
       "      <td>90</td>\n",
       "      <td>89</td>\n",
       "      <td>93</td>\n",
       "    </tr>\n",
       "    <tr>\n",
       "      <th>12</th>\n",
       "      <td>Student13</td>\n",
       "      <td>45</td>\n",
       "      <td>43</td>\n",
       "      <td>50</td>\n",
       "      <td>60</td>\n",
       "    </tr>\n",
       "    <tr>\n",
       "      <th>13</th>\n",
       "      <td>Student14</td>\n",
       "      <td>63</td>\n",
       "      <td>70</td>\n",
       "      <td>74</td>\n",
       "      <td>77</td>\n",
       "    </tr>\n",
       "    <tr>\n",
       "      <th>14</th>\n",
       "      <td>Student15</td>\n",
       "      <td>89</td>\n",
       "      <td>91</td>\n",
       "      <td>81</td>\n",
       "      <td>84</td>\n",
       "    </tr>\n",
       "  </tbody>\n",
       "</table>\n",
       "</div>"
      ],
      "text/plain": [
       "   student name  Math  Electronics  GEAS  Communication\n",
       "0      Student1    98           78    86             90\n",
       "1      Student2    91           77    90             85\n",
       "2      Student3    71           83    78             84\n",
       "3      Student4    63           56    83             83\n",
       "4      Student5    55           94    89             82\n",
       "5      Student6    90           57    70             81\n",
       "6      Student7    88           90    88             76\n",
       "7      Student8    54           49    78             77\n",
       "8      Student9    32           45    88             41\n",
       "9     Student10    90           86    90             89\n",
       "10    Student11    58           57    66             77\n",
       "11    Student12    88           90    89             93\n",
       "12    Student13    45           43    50             60\n",
       "13    Student14    63           70    74             77\n",
       "14    Student15    89           91    81             84"
      ]
     },
     "execution_count": 293,
     "metadata": {},
     "output_type": "execute_result"
    }
   ],
   "source": [
    "# Use pandas to read the CSV file into a DataFrame\n",
    "df = pd.read_csv('board.csv')\n",
    "df\n"
   ]
  },
  {
   "cell_type": "code",
   "execution_count": 295,
   "id": "f7928691-ae81-44fc-af9d-8cc1657a3751",
   "metadata": {},
   "outputs": [
    {
     "data": {
      "text/html": [
       "<div>\n",
       "<style scoped>\n",
       "    .dataframe tbody tr th:only-of-type {\n",
       "        vertical-align: middle;\n",
       "    }\n",
       "\n",
       "    .dataframe tbody tr th {\n",
       "        vertical-align: top;\n",
       "    }\n",
       "\n",
       "    .dataframe thead th {\n",
       "        text-align: right;\n",
       "    }\n",
       "</style>\n",
       "<table border=\"1\" class=\"dataframe\">\n",
       "  <thead>\n",
       "    <tr style=\"text-align: right;\">\n",
       "      <th></th>\n",
       "      <th>Math</th>\n",
       "      <th>Electronics</th>\n",
       "      <th>GEAS</th>\n",
       "      <th>Communication</th>\n",
       "    </tr>\n",
       "  </thead>\n",
       "  <tbody>\n",
       "    <tr>\n",
       "      <th>count</th>\n",
       "      <td>15.000000</td>\n",
       "      <td>15.000000</td>\n",
       "      <td>15.000000</td>\n",
       "      <td>15.000000</td>\n",
       "    </tr>\n",
       "    <tr>\n",
       "      <th>mean</th>\n",
       "      <td>71.666667</td>\n",
       "      <td>71.066667</td>\n",
       "      <td>80.000000</td>\n",
       "      <td>78.600000</td>\n",
       "    </tr>\n",
       "    <tr>\n",
       "      <th>std</th>\n",
       "      <td>20.328259</td>\n",
       "      <td>18.257940</td>\n",
       "      <td>11.263088</td>\n",
       "      <td>12.971397</td>\n",
       "    </tr>\n",
       "    <tr>\n",
       "      <th>min</th>\n",
       "      <td>32.000000</td>\n",
       "      <td>43.000000</td>\n",
       "      <td>50.000000</td>\n",
       "      <td>41.000000</td>\n",
       "    </tr>\n",
       "    <tr>\n",
       "      <th>25%</th>\n",
       "      <td>56.500000</td>\n",
       "      <td>56.500000</td>\n",
       "      <td>76.000000</td>\n",
       "      <td>77.000000</td>\n",
       "    </tr>\n",
       "    <tr>\n",
       "      <th>50%</th>\n",
       "      <td>71.000000</td>\n",
       "      <td>77.000000</td>\n",
       "      <td>83.000000</td>\n",
       "      <td>82.000000</td>\n",
       "    </tr>\n",
       "    <tr>\n",
       "      <th>75%</th>\n",
       "      <td>89.500000</td>\n",
       "      <td>88.000000</td>\n",
       "      <td>88.500000</td>\n",
       "      <td>84.500000</td>\n",
       "    </tr>\n",
       "    <tr>\n",
       "      <th>max</th>\n",
       "      <td>98.000000</td>\n",
       "      <td>94.000000</td>\n",
       "      <td>90.000000</td>\n",
       "      <td>93.000000</td>\n",
       "    </tr>\n",
       "  </tbody>\n",
       "</table>\n",
       "</div>"
      ],
      "text/plain": [
       "            Math  Electronics       GEAS  Communication\n",
       "count  15.000000    15.000000  15.000000      15.000000\n",
       "mean   71.666667    71.066667  80.000000      78.600000\n",
       "std    20.328259    18.257940  11.263088      12.971397\n",
       "min    32.000000    43.000000  50.000000      41.000000\n",
       "25%    56.500000    56.500000  76.000000      77.000000\n",
       "50%    71.000000    77.000000  83.000000      82.000000\n",
       "75%    89.500000    88.000000  88.500000      84.500000\n",
       "max    98.000000    94.000000  90.000000      93.000000"
      ]
     },
     "execution_count": 295,
     "metadata": {},
     "output_type": "execute_result"
    }
   ],
   "source": [
    "df.describe()"
   ]
  },
  {
   "cell_type": "markdown",
   "id": "21012a79-cfc3-4aa2-8650-d3aaa61b137a",
   "metadata": {},
   "source": [
    "3. Extract the data: <br>\n",
    "a. Students whose Math grades are above 70 <br>\n",
    "b. Students whose grades are above 70 for all subjects <br>\n",
    "c. Students whose grades are below 70 but greater than 60 <br>"
   ]
  },
  {
   "cell_type": "code",
   "execution_count": 300,
   "id": "7c77d870-0602-4159-a1ea-f3b09f51976d",
   "metadata": {},
   "outputs": [
    {
     "data": {
      "text/html": [
       "<div>\n",
       "<style scoped>\n",
       "    .dataframe tbody tr th:only-of-type {\n",
       "        vertical-align: middle;\n",
       "    }\n",
       "\n",
       "    .dataframe tbody tr th {\n",
       "        vertical-align: top;\n",
       "    }\n",
       "\n",
       "    .dataframe thead th {\n",
       "        text-align: right;\n",
       "    }\n",
       "</style>\n",
       "<table border=\"1\" class=\"dataframe\">\n",
       "  <thead>\n",
       "    <tr style=\"text-align: right;\">\n",
       "      <th></th>\n",
       "      <th>student name</th>\n",
       "      <th>Math</th>\n",
       "      <th>Electronics</th>\n",
       "      <th>GEAS</th>\n",
       "      <th>Communication</th>\n",
       "    </tr>\n",
       "  </thead>\n",
       "  <tbody>\n",
       "    <tr>\n",
       "      <th>0</th>\n",
       "      <td>Student1</td>\n",
       "      <td>98</td>\n",
       "      <td>78</td>\n",
       "      <td>86</td>\n",
       "      <td>90</td>\n",
       "    </tr>\n",
       "    <tr>\n",
       "      <th>1</th>\n",
       "      <td>Student2</td>\n",
       "      <td>91</td>\n",
       "      <td>77</td>\n",
       "      <td>90</td>\n",
       "      <td>85</td>\n",
       "    </tr>\n",
       "    <tr>\n",
       "      <th>2</th>\n",
       "      <td>Student3</td>\n",
       "      <td>71</td>\n",
       "      <td>83</td>\n",
       "      <td>78</td>\n",
       "      <td>84</td>\n",
       "    </tr>\n",
       "    <tr>\n",
       "      <th>5</th>\n",
       "      <td>Student6</td>\n",
       "      <td>90</td>\n",
       "      <td>57</td>\n",
       "      <td>70</td>\n",
       "      <td>81</td>\n",
       "    </tr>\n",
       "    <tr>\n",
       "      <th>6</th>\n",
       "      <td>Student7</td>\n",
       "      <td>88</td>\n",
       "      <td>90</td>\n",
       "      <td>88</td>\n",
       "      <td>76</td>\n",
       "    </tr>\n",
       "    <tr>\n",
       "      <th>9</th>\n",
       "      <td>Student10</td>\n",
       "      <td>90</td>\n",
       "      <td>86</td>\n",
       "      <td>90</td>\n",
       "      <td>89</td>\n",
       "    </tr>\n",
       "    <tr>\n",
       "      <th>11</th>\n",
       "      <td>Student12</td>\n",
       "      <td>88</td>\n",
       "      <td>90</td>\n",
       "      <td>89</td>\n",
       "      <td>93</td>\n",
       "    </tr>\n",
       "    <tr>\n",
       "      <th>14</th>\n",
       "      <td>Student15</td>\n",
       "      <td>89</td>\n",
       "      <td>91</td>\n",
       "      <td>81</td>\n",
       "      <td>84</td>\n",
       "    </tr>\n",
       "  </tbody>\n",
       "</table>\n",
       "</div>"
      ],
      "text/plain": [
       "   student name  Math  Electronics  GEAS  Communication\n",
       "0      Student1    98           78    86             90\n",
       "1      Student2    91           77    90             85\n",
       "2      Student3    71           83    78             84\n",
       "5      Student6    90           57    70             81\n",
       "6      Student7    88           90    88             76\n",
       "9     Student10    90           86    90             89\n",
       "11    Student12    88           90    89             93\n",
       "14    Student15    89           91    81             84"
      ]
     },
     "execution_count": 300,
     "metadata": {},
     "output_type": "execute_result"
    }
   ],
   "source": [
    "df.loc[(df['Math']>70)]"
   ]
  },
  {
   "cell_type": "code",
   "execution_count": 302,
   "id": "4f652d34-aeff-4a76-8946-00f6d7bf1fb4",
   "metadata": {},
   "outputs": [
    {
     "data": {
      "text/html": [
       "<div>\n",
       "<style scoped>\n",
       "    .dataframe tbody tr th:only-of-type {\n",
       "        vertical-align: middle;\n",
       "    }\n",
       "\n",
       "    .dataframe tbody tr th {\n",
       "        vertical-align: top;\n",
       "    }\n",
       "\n",
       "    .dataframe thead th {\n",
       "        text-align: right;\n",
       "    }\n",
       "</style>\n",
       "<table border=\"1\" class=\"dataframe\">\n",
       "  <thead>\n",
       "    <tr style=\"text-align: right;\">\n",
       "      <th></th>\n",
       "      <th>student name</th>\n",
       "      <th>Math</th>\n",
       "      <th>Electronics</th>\n",
       "      <th>GEAS</th>\n",
       "      <th>Communication</th>\n",
       "    </tr>\n",
       "  </thead>\n",
       "  <tbody>\n",
       "    <tr>\n",
       "      <th>0</th>\n",
       "      <td>Student1</td>\n",
       "      <td>98</td>\n",
       "      <td>78</td>\n",
       "      <td>86</td>\n",
       "      <td>90</td>\n",
       "    </tr>\n",
       "    <tr>\n",
       "      <th>1</th>\n",
       "      <td>Student2</td>\n",
       "      <td>91</td>\n",
       "      <td>77</td>\n",
       "      <td>90</td>\n",
       "      <td>85</td>\n",
       "    </tr>\n",
       "    <tr>\n",
       "      <th>2</th>\n",
       "      <td>Student3</td>\n",
       "      <td>71</td>\n",
       "      <td>83</td>\n",
       "      <td>78</td>\n",
       "      <td>84</td>\n",
       "    </tr>\n",
       "    <tr>\n",
       "      <th>6</th>\n",
       "      <td>Student7</td>\n",
       "      <td>88</td>\n",
       "      <td>90</td>\n",
       "      <td>88</td>\n",
       "      <td>76</td>\n",
       "    </tr>\n",
       "    <tr>\n",
       "      <th>9</th>\n",
       "      <td>Student10</td>\n",
       "      <td>90</td>\n",
       "      <td>86</td>\n",
       "      <td>90</td>\n",
       "      <td>89</td>\n",
       "    </tr>\n",
       "    <tr>\n",
       "      <th>11</th>\n",
       "      <td>Student12</td>\n",
       "      <td>88</td>\n",
       "      <td>90</td>\n",
       "      <td>89</td>\n",
       "      <td>93</td>\n",
       "    </tr>\n",
       "    <tr>\n",
       "      <th>14</th>\n",
       "      <td>Student15</td>\n",
       "      <td>89</td>\n",
       "      <td>91</td>\n",
       "      <td>81</td>\n",
       "      <td>84</td>\n",
       "    </tr>\n",
       "  </tbody>\n",
       "</table>\n",
       "</div>"
      ],
      "text/plain": [
       "   student name  Math  Electronics  GEAS  Communication\n",
       "0      Student1    98           78    86             90\n",
       "1      Student2    91           77    90             85\n",
       "2      Student3    71           83    78             84\n",
       "6      Student7    88           90    88             76\n",
       "9     Student10    90           86    90             89\n",
       "11    Student12    88           90    89             93\n",
       "14    Student15    89           91    81             84"
      ]
     },
     "execution_count": 302,
     "metadata": {},
     "output_type": "execute_result"
    }
   ],
   "source": [
    "df.loc[(df['Math']>70)&(df['Electronics']>70)&(df['GEAS']>70)&(df['Communication']>70)]"
   ]
  },
  {
   "cell_type": "code",
   "execution_count": 304,
   "id": "9f343f64-219c-49a7-a524-49825c3f0136",
   "metadata": {},
   "outputs": [
    {
     "data": {
      "text/html": [
       "<div>\n",
       "<style scoped>\n",
       "    .dataframe tbody tr th:only-of-type {\n",
       "        vertical-align: middle;\n",
       "    }\n",
       "\n",
       "    .dataframe tbody tr th {\n",
       "        vertical-align: top;\n",
       "    }\n",
       "\n",
       "    .dataframe thead th {\n",
       "        text-align: right;\n",
       "    }\n",
       "</style>\n",
       "<table border=\"1\" class=\"dataframe\">\n",
       "  <thead>\n",
       "    <tr style=\"text-align: right;\">\n",
       "      <th></th>\n",
       "      <th>student name</th>\n",
       "      <th>Math</th>\n",
       "      <th>Electronics</th>\n",
       "      <th>GEAS</th>\n",
       "      <th>Communication</th>\n",
       "    </tr>\n",
       "  </thead>\n",
       "  <tbody>\n",
       "  </tbody>\n",
       "</table>\n",
       "</div>"
      ],
      "text/plain": [
       "Empty DataFrame\n",
       "Columns: [student name, Math, Electronics, GEAS, Communication]\n",
       "Index: []"
      ]
     },
     "execution_count": 304,
     "metadata": {},
     "output_type": "execute_result"
    }
   ],
   "source": [
    "x = df[(df['Math'] < 70) & (df['Math'] > 60) &\n",
    "(df['Electronics'] < 70) & (df['Electronics'] > 60) &\n",
    "(df['GEAS'] < 70) & (df['GEAS'] > 60) &\n",
    "(df['Communication'] < 70) & (df['Communication'] > 60)]\n",
    "\n",
    "x"
   ]
  },
  {
   "cell_type": "markdown",
   "id": "d1d7052d-14bd-40a7-8fca-accef1e951da",
   "metadata": {},
   "source": [
    "4. Show the data in a graphical format."
   ]
  },
  {
   "cell_type": "code",
   "execution_count": 307,
   "id": "cc2d25b3-9bbf-49c7-98a4-8fd932a740ce",
   "metadata": {},
   "outputs": [
    {
     "data": {
      "text/plain": [
       "<BarContainer object of 15 artists>"
      ]
     },
     "execution_count": 307,
     "metadata": {},
     "output_type": "execute_result"
    },
    {
     "data": {
      "image/png": "[encoded data removed]",
      "text/plain": [
       "<Figure size 2000x400 with 1 Axes>"
      ]
     },
     "metadata": {},
     "output_type": "display_data"
    }
   ],
   "source": [
    "import matplotlib.pyplot as plt\n",
    "\n",
    "plt.figure(figsize=(20, 4))\n",
    "plt.bar(df['student name'], df['Math'])"
   ]
  },
  {
   "cell_type": "code",
   "execution_count": 309,
   "id": "b7e01986-9b73-4af3-a0f6-91b851a45b00",
   "metadata": {},
   "outputs": [
    {
     "data": {
      "text/plain": [
       "<Axes: ylabel='Frequency'>"
      ]
     },
     "execution_count": 309,
     "metadata": {},
     "output_type": "execute_result"
    },
    {
     "data": {
      "image/png": "[encoded data removed]",
      "text/plain": [
       "<Figure size 640x480 with 1 Axes>"
      ]
     },
     "metadata": {},
     "output_type": "display_data"
    }
   ],
   "source": [
    "df.plot.hist(x='student name', y=['Math', 'GEAS', 'Electronics', 'Communication'])"
   ]
  },
  {
   "cell_type": "code",
   "execution_count": null,
   "id": "aa232c4d-dbf7-47e5-b95d-e69709297ab0",
   "metadata": {},
   "outputs": [],
   "source": []
  }
 ],
 "metadata": {
  "kernelspec": {
   "display_name": "Python 3 (ipykernel)",
   "language": "python",
   "name": "python3"
  },
  "language_info": {
   "codemirror_mode": {
    "name": "ipython",
    "version": 3
   },
   "file_extension": ".py",
   "mimetype": "text/x-python",
   "name": "python",
   "nbconvert_exporter": "python",
   "pygments_lexer": "ipython3",
   "version": "3.12.4"
  }
 },
 "nbformat": 4,
 "nbformat_minor": 5
}
